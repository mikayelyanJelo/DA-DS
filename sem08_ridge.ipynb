{
 "cells": [
  {
   "cell_type": "markdown",
   "id": "4b291641",
   "metadata": {},
   "source": [
    "<center>\n",
    "<img src='https://64.media.tumblr.com/72ca42a775d24a7f1c3c914b967fcd75/tumblr_pdqcnftNaV1w67ki0o2_500.gifv' align='center' width=\"500x\">\n",
    "</center>"
   ]
  },
  {
   "cell_type": "markdown",
   "id": "4b14e41e",
   "metadata": {},
   "source": [
    "# Андан на экономе\n",
    "\n",
    "## Семинар 8:  регуляризация, подбор гиперпараметров\n",
    "\n",
    "Мы довольно подробно поговорили про линейную регрессию и добрались до переобучения. В этом семинаре мы дадим ему бой с помощью регуляризации. А также мы научимся подбирать гиперпараметры."
   ]
  },
  {
   "cell_type": "code",
   "execution_count": 1,
   "id": "732c33ff",
   "metadata": {},
   "outputs": [],
   "source": [
    "import pandas as pd\n",
    "import matplotlib.pyplot as plt\n",
    "import seaborn as sns\n",
    "import numpy as np"
   ]
  },
  {
   "cell_type": "markdown",
   "id": "4a3b420f",
   "metadata": {},
   "source": [
    "## 1. Что у нас уже есть\n",
    "\n",
    "На прошлых парах мы обсудили, какую предобработку данных нужно сделать и обучили линейную регрессию. Давайте скопипастим код."
   ]
  },
  {
   "cell_type": "code",
   "execution_count": 2,
   "id": "17b7d13a",
   "metadata": {
    "scrolled": true
   },
   "outputs": [
    {
     "name": "stdout",
     "output_type": "stream",
     "text": [
      "(1460, 80)\n"
     ]
    },
    {
     "data": {
      "text/html": [
       "<div>\n",
       "<style scoped>\n",
       "    .dataframe tbody tr th:only-of-type {\n",
       "        vertical-align: middle;\n",
       "    }\n",
       "\n",
       "    .dataframe tbody tr th {\n",
       "        vertical-align: top;\n",
       "    }\n",
       "\n",
       "    .dataframe thead th {\n",
       "        text-align: right;\n",
       "    }\n",
       "</style>\n",
       "<table border=\"1\" class=\"dataframe\">\n",
       "  <thead>\n",
       "    <tr style=\"text-align: right;\">\n",
       "      <th></th>\n",
       "      <th>MSSubClass</th>\n",
       "      <th>MSZoning</th>\n",
       "      <th>LotFrontage</th>\n",
       "      <th>LotArea</th>\n",
       "      <th>Street</th>\n",
       "      <th>Alley</th>\n",
       "      <th>LotShape</th>\n",
       "      <th>LandContour</th>\n",
       "      <th>Utilities</th>\n",
       "      <th>LotConfig</th>\n",
       "      <th>...</th>\n",
       "      <th>PoolArea</th>\n",
       "      <th>PoolQC</th>\n",
       "      <th>Fence</th>\n",
       "      <th>MiscFeature</th>\n",
       "      <th>MiscVal</th>\n",
       "      <th>MoSold</th>\n",
       "      <th>YrSold</th>\n",
       "      <th>SaleType</th>\n",
       "      <th>SaleCondition</th>\n",
       "      <th>SalePrice</th>\n",
       "    </tr>\n",
       "    <tr>\n",
       "      <th>Id</th>\n",
       "      <th></th>\n",
       "      <th></th>\n",
       "      <th></th>\n",
       "      <th></th>\n",
       "      <th></th>\n",
       "      <th></th>\n",
       "      <th></th>\n",
       "      <th></th>\n",
       "      <th></th>\n",
       "      <th></th>\n",
       "      <th></th>\n",
       "      <th></th>\n",
       "      <th></th>\n",
       "      <th></th>\n",
       "      <th></th>\n",
       "      <th></th>\n",
       "      <th></th>\n",
       "      <th></th>\n",
       "      <th></th>\n",
       "      <th></th>\n",
       "      <th></th>\n",
       "    </tr>\n",
       "  </thead>\n",
       "  <tbody>\n",
       "    <tr>\n",
       "      <th>1</th>\n",
       "      <td>60</td>\n",
       "      <td>RL</td>\n",
       "      <td>65.0</td>\n",
       "      <td>8450</td>\n",
       "      <td>Pave</td>\n",
       "      <td>NaN</td>\n",
       "      <td>Reg</td>\n",
       "      <td>Lvl</td>\n",
       "      <td>AllPub</td>\n",
       "      <td>Inside</td>\n",
       "      <td>...</td>\n",
       "      <td>0</td>\n",
       "      <td>NaN</td>\n",
       "      <td>NaN</td>\n",
       "      <td>NaN</td>\n",
       "      <td>0</td>\n",
       "      <td>2</td>\n",
       "      <td>2008</td>\n",
       "      <td>WD</td>\n",
       "      <td>Normal</td>\n",
       "      <td>208500</td>\n",
       "    </tr>\n",
       "    <tr>\n",
       "      <th>2</th>\n",
       "      <td>20</td>\n",
       "      <td>RL</td>\n",
       "      <td>80.0</td>\n",
       "      <td>9600</td>\n",
       "      <td>Pave</td>\n",
       "      <td>NaN</td>\n",
       "      <td>Reg</td>\n",
       "      <td>Lvl</td>\n",
       "      <td>AllPub</td>\n",
       "      <td>FR2</td>\n",
       "      <td>...</td>\n",
       "      <td>0</td>\n",
       "      <td>NaN</td>\n",
       "      <td>NaN</td>\n",
       "      <td>NaN</td>\n",
       "      <td>0</td>\n",
       "      <td>5</td>\n",
       "      <td>2007</td>\n",
       "      <td>WD</td>\n",
       "      <td>Normal</td>\n",
       "      <td>181500</td>\n",
       "    </tr>\n",
       "    <tr>\n",
       "      <th>3</th>\n",
       "      <td>60</td>\n",
       "      <td>RL</td>\n",
       "      <td>68.0</td>\n",
       "      <td>11250</td>\n",
       "      <td>Pave</td>\n",
       "      <td>NaN</td>\n",
       "      <td>IR1</td>\n",
       "      <td>Lvl</td>\n",
       "      <td>AllPub</td>\n",
       "      <td>Inside</td>\n",
       "      <td>...</td>\n",
       "      <td>0</td>\n",
       "      <td>NaN</td>\n",
       "      <td>NaN</td>\n",
       "      <td>NaN</td>\n",
       "      <td>0</td>\n",
       "      <td>9</td>\n",
       "      <td>2008</td>\n",
       "      <td>WD</td>\n",
       "      <td>Normal</td>\n",
       "      <td>223500</td>\n",
       "    </tr>\n",
       "    <tr>\n",
       "      <th>4</th>\n",
       "      <td>70</td>\n",
       "      <td>RL</td>\n",
       "      <td>60.0</td>\n",
       "      <td>9550</td>\n",
       "      <td>Pave</td>\n",
       "      <td>NaN</td>\n",
       "      <td>IR1</td>\n",
       "      <td>Lvl</td>\n",
       "      <td>AllPub</td>\n",
       "      <td>Corner</td>\n",
       "      <td>...</td>\n",
       "      <td>0</td>\n",
       "      <td>NaN</td>\n",
       "      <td>NaN</td>\n",
       "      <td>NaN</td>\n",
       "      <td>0</td>\n",
       "      <td>2</td>\n",
       "      <td>2006</td>\n",
       "      <td>WD</td>\n",
       "      <td>Abnorml</td>\n",
       "      <td>140000</td>\n",
       "    </tr>\n",
       "    <tr>\n",
       "      <th>5</th>\n",
       "      <td>60</td>\n",
       "      <td>RL</td>\n",
       "      <td>84.0</td>\n",
       "      <td>14260</td>\n",
       "      <td>Pave</td>\n",
       "      <td>NaN</td>\n",
       "      <td>IR1</td>\n",
       "      <td>Lvl</td>\n",
       "      <td>AllPub</td>\n",
       "      <td>FR2</td>\n",
       "      <td>...</td>\n",
       "      <td>0</td>\n",
       "      <td>NaN</td>\n",
       "      <td>NaN</td>\n",
       "      <td>NaN</td>\n",
       "      <td>0</td>\n",
       "      <td>12</td>\n",
       "      <td>2008</td>\n",
       "      <td>WD</td>\n",
       "      <td>Normal</td>\n",
       "      <td>250000</td>\n",
       "    </tr>\n",
       "  </tbody>\n",
       "</table>\n",
       "<p>5 rows × 80 columns</p>\n",
       "</div>"
      ],
      "text/plain": [
       "    MSSubClass MSZoning  LotFrontage  LotArea Street Alley LotShape  \\\n",
       "Id                                                                    \n",
       "1           60       RL         65.0     8450   Pave   NaN      Reg   \n",
       "2           20       RL         80.0     9600   Pave   NaN      Reg   \n",
       "3           60       RL         68.0    11250   Pave   NaN      IR1   \n",
       "4           70       RL         60.0     9550   Pave   NaN      IR1   \n",
       "5           60       RL         84.0    14260   Pave   NaN      IR1   \n",
       "\n",
       "   LandContour Utilities LotConfig  ... PoolArea PoolQC Fence MiscFeature  \\\n",
       "Id                                  ...                                     \n",
       "1          Lvl    AllPub    Inside  ...        0    NaN   NaN         NaN   \n",
       "2          Lvl    AllPub       FR2  ...        0    NaN   NaN         NaN   \n",
       "3          Lvl    AllPub    Inside  ...        0    NaN   NaN         NaN   \n",
       "4          Lvl    AllPub    Corner  ...        0    NaN   NaN         NaN   \n",
       "5          Lvl    AllPub       FR2  ...        0    NaN   NaN         NaN   \n",
       "\n",
       "   MiscVal MoSold  YrSold  SaleType  SaleCondition  SalePrice  \n",
       "Id                                                             \n",
       "1        0      2    2008        WD         Normal     208500  \n",
       "2        0      5    2007        WD         Normal     181500  \n",
       "3        0      9    2008        WD         Normal     223500  \n",
       "4        0      2    2006        WD        Abnorml     140000  \n",
       "5        0     12    2008        WD         Normal     250000  \n",
       "\n",
       "[5 rows x 80 columns]"
      ]
     },
     "execution_count": 2,
     "metadata": {},
     "output_type": "execute_result"
    }
   ],
   "source": [
    "df = pd.read_csv('train.csv', index_col=0)\n",
    "print(df.shape)\n",
    "df.head()"
   ]
  },
  {
   "cell_type": "code",
   "execution_count": 3,
   "id": "1c2a2950",
   "metadata": {},
   "outputs": [],
   "source": [
    "from sklearn.model_selection import train_test_split\n",
    "\n",
    "y = df[\"SalePrice\"]\n",
    "X = df.drop(columns=[\"SalePrice\"])\n",
    "feature_names = X.columns.values\n",
    "\n",
    "X_train, X_test, y_train, y_test = train_test_split(X, y, test_size=0.2, random_state=42)"
   ]
  },
  {
   "cell_type": "markdown",
   "id": "ac26af59",
   "metadata": {},
   "source": [
    "__Вопроc:__ зачем мы разбивали выборку на тест и трэйн?"
   ]
  },
  {
   "cell_type": "code",
   "execution_count": 4,
   "id": "ea76a2e0",
   "metadata": {},
   "outputs": [],
   "source": [
    "numeric_data = X_train.select_dtypes([np.number])\n",
    "\n",
    "numeric_data_mean = numeric_data.mean()  # считаем средние на трэйне\n",
    "numeric_features = numeric_data.columns\n",
    "\n",
    "X_train = X_train.fillna(numeric_data_mean)\n",
    "X_test = X_test.fillna(numeric_data_mean)   # применяем к тесту средние с трэйна"
   ]
  },
  {
   "cell_type": "markdown",
   "id": "140b08c1",
   "metadata": {},
   "source": [
    "__Вопроc:__ зачем заполнять пропуски? Какие способы сделать это вы знаете?"
   ]
  },
  {
   "cell_type": "code",
   "execution_count": 5,
   "id": "c519bcba",
   "metadata": {},
   "outputs": [],
   "source": [
    "from sklearn.preprocessing import StandardScaler\n",
    "\n",
    "# Дальше мы работаем только с числовыми признаки\n",
    "scaler_x = StandardScaler()\n",
    "X_train_scaled = scaler_x.fit_transform(X_train[numeric_features])\n",
    "X_test_scaled = scaler_x.transform(X_test[numeric_features])"
   ]
  },
  {
   "cell_type": "markdown",
   "id": "c93615b3",
   "metadata": {},
   "source": [
    "__Вопроc:__ что такое нормализация данных, зачем её делать?"
   ]
  },
  {
   "cell_type": "code",
   "execution_count": 6,
   "id": "44bfade2",
   "metadata": {},
   "outputs": [
    {
     "name": "stdout",
     "output_type": "stream",
     "text": [
      "Test MAPE = 0.1347\n",
      "Train MAPE = 0.1249\n"
     ]
    }
   ],
   "source": [
    "from sklearn.linear_model import LinearRegression\n",
    "from sklearn.metrics import mean_absolute_percentage_error\n",
    "\n",
    "model = LinearRegression()\n",
    "model.fit(X_train_scaled, y_train)\n",
    "y_pred = model.predict(X_test_scaled)\n",
    "y_train_pred = model.predict(X_train_scaled)\n",
    "\n",
    "print(\"Test MAPE = %.4f\" % mean_absolute_percentage_error(y_test, y_pred))\n",
    "print(\"Train MAPE = %.4f\" % mean_absolute_percentage_error(y_train, y_train_pred))"
   ]
  },
  {
   "cell_type": "code",
   "execution_count": 7,
   "id": "d20b969a",
   "metadata": {},
   "outputs": [],
   "source": [
    "from sklearn.preprocessing import PolynomialFeatures\n",
    "\n",
    "polinom_transform = PolynomialFeatures(2, include_bias=False)\n",
    "\n",
    "X_train_poly = polinom_transform.fit_transform(X_train_scaled)\n",
    "X_test_poly = polinom_transform.transform(X_test_scaled)"
   ]
  },
  {
   "cell_type": "code",
   "execution_count": 8,
   "id": "0cf58981",
   "metadata": {},
   "outputs": [
    {
     "name": "stdout",
     "output_type": "stream",
     "text": [
      "Test MAPE = 1915603513.4185\n",
      "Train MAPE = 0.0611\n"
     ]
    }
   ],
   "source": [
    "model = LinearRegression()\n",
    "\n",
    "model.fit(X_train_poly, y_train)\n",
    "y_pred = model.predict(X_test_poly)\n",
    "y_train_pred = model.predict(X_train_poly)\n",
    "\n",
    "print(\"Test MAPE = %.4f\" % mean_absolute_percentage_error(y_test, y_pred))\n",
    "print(\"Train MAPE = %.4f\" % mean_absolute_percentage_error(y_train, y_train_pred))"
   ]
  },
  {
   "cell_type": "code",
   "execution_count": 9,
   "id": "05d04ce4",
   "metadata": {},
   "outputs": [
    {
     "data": {
      "text/plain": [
       "(1168, 702)"
      ]
     },
     "execution_count": 9,
     "metadata": {},
     "output_type": "execute_result"
    }
   ],
   "source": [
    "X_train_poly.shape"
   ]
  },
  {
   "cell_type": "code",
   "execution_count": 10,
   "id": "0b50bce8",
   "metadata": {},
   "outputs": [
    {
     "data": {
      "text/plain": [
       "array([4.40539678e+02, 1.19756746e+13, 2.22939713e+13, 5.43488718e+13,\n",
       "       9.48779241e+12, 5.10831667e+13, 1.86260077e+13, 6.00027050e+13,\n",
       "       1.61746369e+15, 5.44219444e+14])"
      ]
     },
     "execution_count": 10,
     "metadata": {},
     "output_type": "execute_result"
    }
   ],
   "source": [
    "np.abs(model.coef_)[:10]"
   ]
  },
  {
   "cell_type": "code",
   "execution_count": 11,
   "id": "a1be24fb",
   "metadata": {},
   "outputs": [
    {
     "data": {
      "text/plain": [
       "9.313861602944227e+16"
      ]
     },
     "execution_count": 11,
     "metadata": {},
     "output_type": "execute_result"
    }
   ],
   "source": [
    "np.abs(model.coef_).sum()"
   ]
  },
  {
   "cell_type": "code",
   "execution_count": 12,
   "id": "47e6b527",
   "metadata": {},
   "outputs": [
    {
     "data": {
      "text/plain": [
       "2389501326706936.5"
      ]
     },
     "execution_count": 12,
     "metadata": {},
     "output_type": "execute_result"
    }
   ],
   "source": [
    "np.abs(model.coef_)[:10].sum()"
   ]
  },
  {
   "cell_type": "markdown",
   "id": "3cdde675",
   "metadata": {},
   "source": [
    "__Вопрос:__ почему при добавлении степеней качество модели на тесте так резко упало? Что такое переобучение?"
   ]
  },
  {
   "cell_type": "markdown",
   "id": "54a082fb",
   "metadata": {},
   "source": [
    "![](https://miro.medium.com/max/875/1*_7OPgojau8hkiPUiHoGK_w.png)"
   ]
  },
  {
   "cell_type": "markdown",
   "id": "bbe7661e",
   "metadata": {},
   "source": [
    "Что мы видим по моделям? Крутые завихрения, большие коэффициенты около переменных. Возникает идея: если искусственно стянуть коэффициенты к нулю, модель не будет так сильно извиваться ине переобучиться. Из-за ограничения на коэффициенты, она станет проще. Такие дополнительные условия называются **регуляризацией.**"
   ]
  },
  {
   "cell_type": "markdown",
   "id": "04b0cfb9",
   "metadata": {},
   "source": [
    "## 2. Ridge-регрессия (гребневая регрессия)\n",
    "\n",
    "Давайте посмотрим, что поменяется по сравнению с обычной линейной регрессией. Снова будем смотреть на случай с одной объясняющей переменной. Формула для расчёта прогнозов никак не изменится. \n",
    "\n",
    "__Модель:__ \n",
    "\n",
    "$$\n",
    "y_i = w \\cdot x_i\n",
    "$$\n",
    "\n",
    "А вот функция потерь уже будет другой. Появится дополнительное слагаемое. Если коэффициенты оказались по модулю очень большими, к функции потерь будет добавляться дополнительный штраф. Сила этого штрафа задаётся гиперпараметром $\\lambda$. Мы его выбираем перед обучением модели. \n",
    "\n",
    "__Функция потерь:__\n",
    "\n",
    "$$\n",
    "Q(w) = \\frac{1}{n} \\sum_{i=1}^n (y_i - \\hat y_i)^2 + \\lambda \\cdot w^2 =  \\frac{1}{n} \\sum_{i=1}^n (y_i - w \\cdot x_i)^2 + \\lambda \\cdot w^2 \\to \\min_{w}\n",
    "$$"
   ]
  },
  {
   "cell_type": "markdown",
   "id": "8b322c7e",
   "metadata": {},
   "source": [
    "Попробуем найти оптимальное $w$, взяв производную и приравняв её к нулю. \n",
    "\n",
    "$$\n",
    "\\frac{\\partial Q}{\\partial w} = - \\frac{2}{n} \\sum_{i=1}^n (y_i - w \\cdot x_i) x_i + 2 \\lambda w = 0\n",
    "$$\n",
    "\n",
    "$$\n",
    "\\sum_{i=1}^n x_i y_i -  w \\sum_{i=1}^n x^2_i - n \\lambda w = 0\n",
    "$$\n",
    "\n",
    "$$\n",
    "\\sum_{i=1}^n x_i y_i =  w \\left( \\sum_{i=1}^n x^2_i + \\lambda \\cdot n\\right)\n",
    "$$\n",
    "\n",
    "\n",
    "__Решение:__\n",
    "\n",
    "$$\n",
    "\\hat{w} = \\frac{ \\sum_{i=1}^n x_i y_i }{\\sum_{i=1}^n x^2_i + \\lambda \\cdot n}\n",
    "$$"
   ]
  },
  {
   "cell_type": "markdown",
   "id": "06c48ff1",
   "metadata": {},
   "source": [
    "Если $\\lambda = 0,$ тогда регуляризации нет, оценка коэффициента совпадает с обычной линейной регрессией. Если мы берём очень большое $\\lambda,$ мы получаем близкие к нулю коэффициенты. Гиперпараметр $\\lambda$ отвечает за силу регуляризации. "
   ]
  },
  {
   "cell_type": "code",
   "execution_count": 13,
   "id": "50bf872c",
   "metadata": {},
   "outputs": [
    {
     "name": "stdout",
     "output_type": "stream",
     "text": [
      "Test MAPE = 0.1178\n",
      "Train MAPE = 0.0720\n"
     ]
    }
   ],
   "source": [
    "from sklearn.linear_model import Ridge\n",
    "\n",
    "model = Ridge(alpha=200) # альфа это лямбда :)\n",
    "\n",
    "model.fit(X_train_poly, y_train)\n",
    "y_pred = model.predict(X_test_poly)\n",
    "y_train_pred = model.predict(X_train_poly)\n",
    "\n",
    "print(\"Test MAPE = %.4f\" % mean_absolute_percentage_error(y_test, y_pred))\n",
    "print(\"Train MAPE = %.4f\" % mean_absolute_percentage_error(y_train, y_train_pred))"
   ]
  },
  {
   "cell_type": "markdown",
   "id": "93833481",
   "metadata": {},
   "source": [
    "Качество на тестовой выборке стало намного лучше. Давайте попробуем перебрать разные значения $\\alpha$ и посмотрим, как коэффициенты стягиваются к нелю по мере его роста."
   ]
  },
  {
   "cell_type": "code",
   "execution_count": 14,
   "id": "fc1e19b6",
   "metadata": {},
   "outputs": [],
   "source": [
    "alphas = np.logspace(-2, 5, 20)\n",
    "coefs = []\n",
    "\n",
    "for a in alphas:\n",
    "    model = Ridge(alpha=a)\n",
    "    model.fit(X_train_scaled, y_train)\n",
    "    coefs.append(model.coef_)"
   ]
  },
  {
   "cell_type": "code",
   "execution_count": 15,
   "id": "665878ee",
   "metadata": {},
   "outputs": [
    {
     "data": {
      "image/png": "[encoded data removed]",
      "text/plain": [
       "<Figure size 1200x600 with 1 Axes>"
      ]
     },
     "metadata": {},
     "output_type": "display_data"
    }
   ],
   "source": [
    "df_coef = pd.DataFrame(coefs)\n",
    "df_coef.columns = numeric_features\n",
    "df_coef.index = alphas\n",
    "\n",
    "df_coef[numeric_features[:10]].plot(figsize=(12,6))\n",
    "plt.xlabel(\"Сила регуляризации\")\n",
    "plt.ylabel(\"Значение коэффициента\")\n",
    "plt.title('Поведение коэффициентов Ridge-регрессии при росте силы регуляризации');"
   ]
  },
  {
   "cell_type": "markdown",
   "id": "8fe3f2f5",
   "metadata": {},
   "source": [
    "Видно, что коэффициенты всё ближе к нулю при росте лямбды, но в ноль они не превращаются. \n",
    "\n",
    "**Вопрос:** почему в случае Ridge регрессии очень важно отмасштабировать признаки?"
   ]
  },
  {
   "cell_type": "markdown",
   "id": "bb288fa5",
   "metadata": {},
   "source": [
    "## 3. Поиск гиперпараметра по решётке"
   ]
  },
  {
   "cell_type": "markdown",
   "id": "1b46378a",
   "metadata": {},
   "source": [
    "Наряду с параметрами (веса $w$), которые модель оптимизирует на этапе обучения, у модели есть и гиперпараметры. У нашей модели это `alpha` — коэффициент регуляризации. \n",
    "\n",
    "Подбирают его обычно по сетке, измеряя качество на валидационной (не тестовой) выборке или с помощью кросс-валидации. Посмотрим, как это можно сделать (заметьте, что мы перебираем `alpha` по логарифмической сетке, чтобы узнать оптимальный порядок величины)."
   ]
  },
  {
   "cell_type": "code",
   "execution_count": 16,
   "id": "df3cb2ee",
   "metadata": {},
   "outputs": [
    {
     "name": "stdout",
     "output_type": "stream",
     "text": [
      "Best alpha = 162.3777\n"
     ]
    },
    {
     "data": {
      "image/png": "[encoded data removed]",
      "text/plain": [
       "<Figure size 500x400 with 1 Axes>"
      ]
     },
     "metadata": {},
     "output_type": "display_data"
    }
   ],
   "source": [
    "from sklearn.model_selection import GridSearchCV\n",
    "\n",
    "alphas = np.logspace(-2, 3, 20)\n",
    "searcher = GridSearchCV(\n",
    "    Ridge(), [{\"alpha\": alphas}], \n",
    "    scoring=\"neg_root_mean_squared_error\", cv=10\n",
    ")\n",
    "searcher.fit(X_train_scaled, y_train)\n",
    "\n",
    "best_alpha = searcher.best_params_[\"alpha\"]\n",
    "print(\"Best alpha = %.4f\" % best_alpha)\n",
    "\n",
    "plt.figure(figsize=(5,4))\n",
    "plt.plot(alphas, -searcher.cv_results_[\"mean_test_score\"])\n",
    "plt.xscale(\"log\")\n",
    "plt.xlabel(\"alpha\")\n",
    "plt.ylabel(\"CV score\");"
   ]
  },
  {
   "cell_type": "markdown",
   "id": "5678c218",
   "metadata": {},
   "source": [
    "**Вопрос:** Почему мы не подбираем коэффициент регуляризации по обучающей выборке? По тестовой выборке?"
   ]
  },
  {
   "cell_type": "markdown",
   "id": "80d16f53",
   "metadata": {},
   "source": [
    "Выше мы делали перебор каждого из возможных значений. Иногда комбинаций существует очень много. В таком случае используют другие способы перебора. Например, случайный поиск `RandomSearch`.\n",
    "\n",
    "<center>\n",
    "<img src='https://miro.medium.com/v2/resize:fit:1400/format:webp/1*ZTlQm_WRcrNqL-nLnx6GJA.png' align='center' width=\"600x\">\n",
    "</center>\n",
    "\n",
    "Есть даже библиотеки для подбора гиперпараметров. Например, в [`optuna`](https://github.com/optuna/optuna) реализована [куча более умных методов.](https://habr.com/ru/post/704432/) Подробнее про подбор гиперпараметров можно почитать [в ШАДовском учебнике.](https://academy.yandex.ru/handbook/ml/article/podbor-giperparametrov)"
   ]
  },
  {
   "cell_type": "markdown",
   "id": "51c9981e",
   "metadata": {},
   "source": [
    "## 4. Lasso-регрессия\n",
    "\n",
    "В случае ridge-регрессии мы накладывали штраф на коэффициенты как их квадрат\n",
    "\n",
    "$$\n",
    "Q(w) = \\frac{1}{n} \\sum_{i=1}^{n}(y_i - \\hat y_i)^2 + \\lambda \\cdot \\sum_{j=1}^k w_j^2.\n",
    "$$\n",
    "\n",
    "Можно попробовать использовать модуль\n",
    "\n",
    "$$\n",
    "Q(w) = \\frac{1}{n} \\sum_{i=1}^{n}(y_i - \\hat y_i)^2 + \\lambda \\cdot \\sum_{j=1}^k |w_j|.\n",
    "$$\n",
    "\n",
    "Такая модель называется LASSO-регрессией. В отличие от Ridge-регрессии, она умеет занулять коэффициенты."
   ]
  },
  {
   "cell_type": "code",
   "execution_count": 17,
   "id": "ee8fccae",
   "metadata": {},
   "outputs": [
    {
     "name": "stdout",
     "output_type": "stream",
     "text": [
      "Test MAPE = 0.1176\n",
      "Train MAPE = 0.0716\n"
     ]
    },
    {
     "name": "stderr",
     "output_type": "stream",
     "text": [
      "/opt/homebrew/lib/python3.10/site-packages/sklearn/linear_model/_coordinate_descent.py:631: ConvergenceWarning: Objective did not converge. You might want to increase the number of iterations, check the scale of the features or consider increasing regularisation. Duality gap: 8.527e+08, tolerance: 6.967e+08\n",
      "  model = cd_fast.enet_coordinate_descent(\n"
     ]
    }
   ],
   "source": [
    "from sklearn.linear_model import Lasso\n",
    "\n",
    "model = Lasso(alpha=200)\n",
    "\n",
    "model.fit(X_train_poly, y_train)\n",
    "y_pred = model.predict(X_test_poly)\n",
    "y_train_pred = model.predict(X_train_poly)\n",
    "\n",
    "print(\"Test MAPE = %.4f\" % mean_absolute_percentage_error(y_test, y_pred))\n",
    "print(\"Train MAPE = %.4f\" % mean_absolute_percentage_error(y_train, y_train_pred))"
   ]
  },
  {
   "cell_type": "markdown",
   "id": "a432e085",
   "metadata": {},
   "source": [
    "Посмотрим, как при росте штрафа коэффициенты будут зануляться."
   ]
  },
  {
   "cell_type": "code",
   "execution_count": 18,
   "id": "71949be8",
   "metadata": {},
   "outputs": [],
   "source": [
    "alphas = np.logspace(-2, 5, 20)\n",
    "coefs = []\n",
    "\n",
    "for a in alphas:\n",
    "    model = Lasso(alpha=a)\n",
    "    model.fit(X_train_scaled, y_train)\n",
    "    coefs.append(model.coef_)"
   ]
  },
  {
   "cell_type": "code",
   "execution_count": 19,
   "id": "63756ca5",
   "metadata": {},
   "outputs": [
    {
     "data": {
      "image/png": "[encoded data removed]",
      "text/plain": [
       "<Figure size 1200x600 with 1 Axes>"
      ]
     },
     "metadata": {},
     "output_type": "display_data"
    }
   ],
   "source": [
    "df_coef = pd.DataFrame(coefs)\n",
    "df_coef.columns = numeric_features\n",
    "df_coef.index = alphas\n",
    "\n",
    "df_coef[numeric_features[:10]].plot(figsize=(12,6))\n",
    "plt.xlabel(\"Сила регуляризации\")\n",
    "plt.ylabel(\"Значение коэффициента\")\n",
    "plt.title('Поведение коэффициентов Lasso-регрессии при росте силы регуляризации');"
   ]
  },
  {
   "cell_type": "markdown",
   "id": "858a1b3d",
   "metadata": {},
   "source": [
    "Почему это так? Ответ таится на картинке ниже...\n",
    "\n",
    "![](https://miro.medium.com/max/761/1*nrWncnoJ4V_BkzEf1pd4MA.png)\n",
    "\n",
    "Ещё можно использовать оба регуляризатора сразу. Такая модель называется [`ElasticNet`.](https://scikit-learn.org/stable/modules/generated/sklearn.linear_model.ElasticNet.html)"
   ]
  },
  {
   "cell_type": "markdown",
   "id": "7dc5c8ab",
   "metadata": {},
   "source": [
    "## 5. Pipeline"
   ]
  },
  {
   "cell_type": "markdown",
   "id": "ddec42a1",
   "metadata": {},
   "source": [
    "Попробуем обучить модель с подобранным коэффициентом регуляризации. Заодно воспользуемся очень удобным классом [`Pipeline`](https://scikit-learn.org/stable/modules/generated/sklearn.pipeline.Pipeline.html): обучение модели часто представляется как последовательность некоторых действий с обучающей и тестовой выборками (например, сначала нужно отмасштабировать выборку (причем для обучающей выборки нужно применить метод `fit`, а для тестовой &mdash; `transform`), а затем обучить/применить модель (для обучающей `fit`, а для тестовой &mdash; `predict`). `Pipeline` позволяет хранить эту последовательность шагов и корректно обрабатывает разные типы выборок: и обучающую, и тестовую."
   ]
  },
  {
   "cell_type": "code",
   "execution_count": 20,
   "id": "d392a5e9",
   "metadata": {},
   "outputs": [],
   "source": [
    "y = df[\"SalePrice\"]\n",
    "X = df.drop(columns=[\"SalePrice\"])\n",
    "feature_names = X.columns.values\n",
    "\n",
    "# пока что работаем только с числовыми признаками\n",
    "numeric_features = X.select_dtypes([np.number]).columns\n",
    "X = X[numeric_features]\n",
    "\n",
    "X_train, X_test, y_train, y_test = train_test_split(X, y, test_size=0.2, random_state=42)"
   ]
  },
  {
   "cell_type": "markdown",
   "id": "d8e8229e",
   "metadata": {},
   "source": [
    "Для заполнения пропусков можно использовать класс `SimpleImputer`"
   ]
  },
  {
   "cell_type": "code",
   "execution_count": 21,
   "id": "e737e49d",
   "metadata": {},
   "outputs": [
    {
     "name": "stdout",
     "output_type": "stream",
     "text": [
      "Test MAPE = 0.1280\n",
      "Train MAPE = 0.0716\n"
     ]
    }
   ],
   "source": [
    "from sklearn.pipeline import Pipeline\n",
    "from sklearn.impute import SimpleImputer\n",
    "\n",
    "simple_pipeline = Pipeline([\n",
    "    ('fillna', SimpleImputer(missing_values=np.nan, strategy=\"median\")),\n",
    "    ('scaling', StandardScaler()),\n",
    "    ('regression', Ridge(best_alpha))\n",
    "])\n",
    "\n",
    "model = simple_pipeline.fit(X_train, y_train)\n",
    "y_pred = model.predict(X_test)\n",
    "\n",
    "print(\"Test MAPE = %.4f\" % mean_absolute_percentage_error(y_test, y_pred))\n",
    "print(\"Train MAPE = %.4f\" % mean_absolute_percentage_error(y_train, y_train_pred))"
   ]
  },
  {
   "cell_type": "markdown",
   "id": "bd2b8193",
   "metadata": {},
   "source": [
    "## 6. Категориальные признаки\n",
    "\n",
    "Давайте добавим категориальные признаки. Напомним, что для них в каестве предобработки можо использовать one hot encoding."
   ]
  },
  {
   "cell_type": "markdown",
   "id": "aedd8866",
   "metadata": {},
   "source": [
    "Практически все методы машинного обучения требуют, чтобы на вход функции обучения подавалась вещественная матрица. В процессе обучения используются свойства вещественных чисел, в частности, возможность сравнения и применения арифметических операций. Поэтому, даже если формально в матрице объекты-признаки записаны числовые значения, нужно всегда анализировать, можно ли относиться к ним как к числам. \n",
    "\n",
    "__Пример:__ некоторые признаки могут задаваться целочисленными хешами или id (например, id пользователя соц. сети), однако нельзя сложить двух пользователей и получить третьего, исходя из их id (как это может сделать линейная модель).\n",
    "\n",
    "Это пример категориального признака, принимающего значения из неупорядоченного конечного множества $K$. К таким признакам обычно применяют [one-hot encoding](http://scikit-learn.org/stable/modules/preprocessing.html#encoding-categorical-features) (вместо одного признака создают $K$ бинарных признаков - по одному на каждое возможное значение исходного признака). В sklearn это можно сделать с помощью классов LabelEncoder + OneHotEncoding, но проще использовать функцию `pd.get_dummies`.\n",
    "\n",
    "Следует заметить, что в новой матрице будет очень много нулевых значений. Чтобы не хранить их в памяти, можно задать параметр `OneHotEncoder(sparse = True)` или `.get_dummies(sparse=True)`, и метод вернет [разреженную матрицу](http://docs.scipy.org/doc/scipy/reference/sparse.html), в которой хранятся только ненулевые значения. Выполнение некоторых операций с такой матрицей может быть неэффективным, однако большинство методов sklearn умеют работать с разреженными матрицами."
   ]
  },
  {
   "cell_type": "code",
   "execution_count": 22,
   "id": "cc285669",
   "metadata": {},
   "outputs": [],
   "source": [
    "y = df[\"SalePrice\"]\n",
    "X = df.drop(columns=[\"SalePrice\"])\n",
    "feature_names = X.columns.values\n",
    "\n",
    "numeric_features = X.select_dtypes([np.number]).columns\n",
    "categorical_features = X.dtypes[X.dtypes == \"object\"].index\n",
    "\n",
    "# пропуски для категориальных фичей будут отдельной категорией\n",
    "X[categorical_features] = X[categorical_features].fillna(\"NotGiven\")\n",
    "\n",
    "X_train, X_test, y_train, y_test = train_test_split(X, y, test_size=0.2, random_state=42) "
   ]
  },
  {
   "cell_type": "markdown",
   "id": "262fa381",
   "metadata": {},
   "source": [
    "__Вопрос:__ почему в категориальной переменной мы заполнили все пропуски одинаковым значением?"
   ]
  },
  {
   "cell_type": "code",
   "execution_count": 23,
   "id": "9f42b79a",
   "metadata": {},
   "outputs": [],
   "source": [
    "# Пропуски в действительных числах\n",
    "numeric_data_mean = numeric_data.mean()\n",
    "numeric_features = numeric_data.columns\n",
    "X_train = X_train.fillna(numeric_data_mean)\n",
    "X_test = X_test.fillna(numeric_data_mean)"
   ]
  },
  {
   "cell_type": "code",
   "execution_count": 24,
   "id": "758587a4",
   "metadata": {},
   "outputs": [],
   "source": [
    "from sklearn.preprocessing import OneHotEncoder\n",
    "from sklearn.compose import ColumnTransformer\n",
    "\n",
    "column_transformer = ColumnTransformer([\n",
    "    ('scaling', StandardScaler(), numeric_features),    \n",
    "    ('ohe', OneHotEncoder(handle_unknown=\"ignore\", drop=\"first\",\n",
    "                         min_frequency=0.001), categorical_features)\n",
    "])"
   ]
  },
  {
   "cell_type": "markdown",
   "id": "16eb632b",
   "metadata": {},
   "source": [
    "Посмотрим на размеры матрицы после OneHot-кодирования:"
   ]
  },
  {
   "cell_type": "code",
   "execution_count": 25,
   "id": "e360e4b4",
   "metadata": {},
   "outputs": [
    {
     "name": "stdout",
     "output_type": "stream",
     "text": [
      "Size before OneHot: (1168, 79)\n",
      "Size after OneHot: (1168, 250)\n"
     ]
    }
   ],
   "source": [
    "print(\"Size before OneHot:\", X_train.shape)\n",
    "print(\"Size after OneHot:\", column_transformer.fit_transform(X_train).shape)"
   ]
  },
  {
   "cell_type": "markdown",
   "id": "51e38ba8",
   "metadata": {},
   "source": [
    "Как видим, количество признаков увеличилось более, чем в 3 раза. Это может повысить риски переобучиться: соотношение количества объектов к количеству признаков сильно сократилось.\n",
    "\n",
    "Попытаемся обучить линейную регрессию с $\\ell_1$-регуляризатором. Выше мы обсудили, что $\\ell_1$-регуляризатор разреживает признаковое пространство, иными словами, такая модель зануляет часть весов."
   ]
  },
  {
   "cell_type": "code",
   "execution_count": 26,
   "id": "409b844b",
   "metadata": {
    "scrolled": false
   },
   "outputs": [
    {
     "name": "stdout",
     "output_type": "stream",
     "text": [
      "Test MAPE = 0.1163\n",
      "Train MAPE = 0.0716\n"
     ]
    },
    {
     "name": "stderr",
     "output_type": "stream",
     "text": [
      "/opt/homebrew/lib/python3.10/site-packages/sklearn/linear_model/_coordinate_descent.py:592: ConvergenceWarning: Objective did not converge. You might want to increase the number of iterations. Duality gap: 79409219347.51859, tolerance: 696659484.3571943\n",
      "  model = cd_fast.sparse_enet_coordinate_descent(\n",
      "/opt/homebrew/lib/python3.10/site-packages/sklearn/preprocessing/_encoders.py:202: UserWarning: Found unknown categories in columns [14, 29] during transform. These unknown categories will be encoded as all zeros\n",
      "  warnings.warn(\n"
     ]
    }
   ],
   "source": [
    "lasso_pipeline = Pipeline(steps=[\n",
    "    ('ohe_and_scaling', column_transformer),\n",
    "    ('regression', Lasso())\n",
    "])\n",
    "\n",
    "model = lasso_pipeline.fit(X_train, y_train)\n",
    "\n",
    "y_pred = model.predict(X_test)\n",
    "\n",
    "print(\"Test MAPE = %.4f\" % mean_absolute_percentage_error(y_test, y_pred))\n",
    "print(\"Train MAPE = %.4f\" % mean_absolute_percentage_error(y_train, y_train_pred))"
   ]
  },
  {
   "cell_type": "code",
   "execution_count": 27,
   "id": "50df0be6",
   "metadata": {},
   "outputs": [
    {
     "name": "stdout",
     "output_type": "stream",
     "text": [
      "Zero weights in Lasso: 7\n"
     ]
    }
   ],
   "source": [
    "lasso_zeros = np.sum(lasso_pipeline.steps[-1][-1].coef_ == 0)\n",
    "print(\"Zero weights in Lasso:\", lasso_zeros)"
   ]
  },
  {
   "cell_type": "markdown",
   "id": "fb4181df",
   "metadata": {},
   "source": [
    "Подберем для нашей модели оптимальный коэффициент регуляризации. Обратите внимание, как перебираются параметры у `Pipeline`."
   ]
  },
  {
   "cell_type": "code",
   "execution_count": null,
   "id": "aa83fefc",
   "metadata": {
    "scrolled": true
   },
   "outputs": [],
   "source": [
    "alphas = np.logspace(-2, 4, 20)\n",
    "searcher = GridSearchCV(lasso_pipeline, [{\"regression__alpha\": alphas}],\n",
    "                        scoring=\"neg_root_mean_squared_error\", cv=10, n_jobs=-1)\n",
    "searcher.fit(X_train, y_train)\n",
    "\n",
    "best_alpha = searcher.best_params_[\"regression__alpha\"]"
   ]
  },
  {
   "cell_type": "code",
   "execution_count": 29,
   "id": "fbd09499",
   "metadata": {},
   "outputs": [
    {
     "name": "stdout",
     "output_type": "stream",
     "text": [
      "Best alpha = 61.5848\n"
     ]
    },
    {
     "data": {
      "text/plain": [
       "Text(0, 0.5, 'CV score')"
      ]
     },
     "execution_count": 29,
     "metadata": {},
     "output_type": "execute_result"
    },
    {
     "data": {
      "image/png": "[encoded data removed]",
      "text/plain": [
       "<Figure size 640x480 with 1 Axes>"
      ]
     },
     "metadata": {},
     "output_type": "display_data"
    }
   ],
   "source": [
    "print(\"Best alpha = %.4f\" % best_alpha)\n",
    "\n",
    "plt.plot(alphas, -searcher.cv_results_[\"mean_test_score\"])\n",
    "plt.xscale(\"log\")\n",
    "plt.xlabel(\"alpha\")\n",
    "plt.ylabel(\"CV score\")"
   ]
  },
  {
   "cell_type": "code",
   "execution_count": 30,
   "id": "6ab82897",
   "metadata": {},
   "outputs": [
    {
     "name": "stdout",
     "output_type": "stream",
     "text": [
      "Test MAPE = 0.1156\n"
     ]
    },
    {
     "name": "stderr",
     "output_type": "stream",
     "text": [
      "/opt/homebrew/lib/python3.10/site-packages/sklearn/preprocessing/_encoders.py:202: UserWarning: Found unknown categories in columns [14, 29] during transform. These unknown categories will be encoded as all zeros\n",
      "  warnings.warn(\n"
     ]
    }
   ],
   "source": [
    "pipeline = Pipeline(steps=[\n",
    "    ('ohe_and_scaling', column_transformer),\n",
    "    ('regression', Lasso(best_alpha))\n",
    "])\n",
    "\n",
    "model = pipeline.fit(X_train, y_train)\n",
    "y_pred = model.predict(X_test)\n",
    "\n",
    "print(\"Test MAPE = %.4f\" % mean_absolute_percentage_error(y_test, y_pred))"
   ]
  },
  {
   "cell_type": "code",
   "execution_count": 31,
   "id": "9198720a",
   "metadata": {},
   "outputs": [
    {
     "name": "stdout",
     "output_type": "stream",
     "text": [
      "Zero weights in Lasso: 110\n"
     ]
    }
   ],
   "source": [
    "lasso_zeros = np.sum(pipeline.steps[-1][-1].coef_ == 0)\n",
    "print(\"Zero weights in Lasso:\", lasso_zeros)"
   ]
  },
  {
   "cell_type": "markdown",
   "id": "a3aa715f",
   "metadata": {},
   "source": [
    "## 7. Как устроены трансформеры для данных (бонус для сильных)\n",
    "\n",
    "Реализуем класс для нормализации данных по аналогии с интерфейсом sklearn для нормализации.\n",
    "\n",
    "Предобработка данных в sklearn реализована по похожему шаблону, что и обучение моделей: функция `.fit(X)` запоминает внутренние переменные, а функция `.transform(X)` выполняет преобразование выборки. y здесь не нужен, потому что в нормализации целевые переменные не участвуют (как и почти во всей предобработке данных).\n",
    "\n",
    "Параметров у класса нет, так что функцию `__init__` мы пропускаем. Функция `.fit()` считает статистики - среднееи стандартное отклонение каждого признака (по обучающей выборке), а функция `.tranform()` вычитает среднее и делит на стандартное отклонение. Для вычисления статистик используем numpy."
   ]
  },
  {
   "cell_type": "code",
   "execution_count": 32,
   "id": "c85193b0",
   "metadata": {},
   "outputs": [],
   "source": [
    "class Normalizer:\n",
    "    def fit(self, X: np.array) -> None:\n",
    "        self.mu = X.mean(axis=0)\n",
    "        self.sigma = X.std(axis=0)\n",
    "        \n",
    "    def transform(self, X: np.array) -> np.array:\n",
    "        return (X - self.mu[np.newaxis, :]) / self.sigma[np.newaxis, :]"
   ]
  },
  {
   "cell_type": "markdown",
   "id": "7ca61a11",
   "metadata": {},
   "source": [
    "Создадим случайные данные для теста."
   ]
  },
  {
   "cell_type": "code",
   "execution_count": 33,
   "id": "5ee50146",
   "metadata": {},
   "outputs": [
    {
     "data": {
      "text/plain": [
       "(20, 4)"
      ]
     },
     "execution_count": 33,
     "metadata": {},
     "output_type": "execute_result"
    }
   ],
   "source": [
    "num_obj_train = 20\n",
    "num_obj_te = 10\n",
    "num_feat = 4\n",
    "X_train = np.random.randint(-5, 5, size=(num_obj_train, num_feat))\n",
    "X_train.shape"
   ]
  },
  {
   "cell_type": "code",
   "execution_count": 34,
   "id": "219f4b4b",
   "metadata": {},
   "outputs": [
    {
     "data": {
      "text/plain": [
       "(10, 4)"
      ]
     },
     "execution_count": 34,
     "metadata": {},
     "output_type": "execute_result"
    }
   ],
   "source": [
    "X_test = np.random.randint(-5, 5, size=(num_obj_te, num_feat))\n",
    "X_test.shape"
   ]
  },
  {
   "cell_type": "code",
   "execution_count": 35,
   "id": "3604b78f",
   "metadata": {},
   "outputs": [
    {
     "data": {
      "text/plain": [
       "array([[ 2,  3,  4, -3],\n",
       "       [ 2,  4,  4,  0],\n",
       "       [-2,  1, -3,  4],\n",
       "       [ 3,  4,  2,  2],\n",
       "       [ 2,  1, -5,  1],\n",
       "       [-1,  2,  2,  1],\n",
       "       [-1,  0, -4, -3],\n",
       "       [ 2,  4,  1,  1],\n",
       "       [-1, -3, -4,  3],\n",
       "       [-3,  3,  0,  3],\n",
       "       [-5,  0, -4, -3],\n",
       "       [ 4, -5,  2, -3],\n",
       "       [-3,  1, -1, -3],\n",
       "       [-4, -1, -4, -5],\n",
       "       [-3,  1, -3,  3],\n",
       "       [ 3,  1, -5,  0],\n",
       "       [ 1, -5, -2,  3],\n",
       "       [-4,  2, -1, -3],\n",
       "       [ 0,  2, -5,  2],\n",
       "       [-2,  2, -4,  3]])"
      ]
     },
     "execution_count": 35,
     "metadata": {},
     "output_type": "execute_result"
    }
   ],
   "source": [
    "X_train"
   ]
  },
  {
   "cell_type": "markdown",
   "id": "b986de9a",
   "metadata": {},
   "source": [
    "Создаем объект класса и трансформируем выборку:"
   ]
  },
  {
   "cell_type": "code",
   "execution_count": 36,
   "id": "c3a89944",
   "metadata": {},
   "outputs": [],
   "source": [
    "normalizer = Normalizer()\n",
    "normalizer.fit(X_train)\n",
    "X_train_transformed = normalizer.transform(X_train)\n",
    "X_test_transformed = normalizer.transform(X_test)"
   ]
  },
  {
   "cell_type": "markdown",
   "id": "01acde84",
   "metadata": {},
   "source": [
    "Fit нужно вызывать именно на обучающих данных, чтобы ничего не подсмотреть в контрольной выборке. А transform можно вызывать много раз для любых выборок (с уже посчитанным статистиками, которые хранятся внутри класса)."
   ]
  },
  {
   "cell_type": "code",
   "execution_count": 37,
   "id": "75562e6e",
   "metadata": {},
   "outputs": [
    {
     "data": {
      "text/plain": [
       "array([[ 0.94155447,  0.83514828,  1.83844724, -1.14811442],\n",
       "       [ 0.94155447,  1.22358934,  1.83844724, -0.05467212],\n",
       "       [-0.56493268,  0.05826616, -0.5013947 ,  1.40325096],\n",
       "       [ 1.31817626,  1.22358934,  1.16992097,  0.67428942],\n",
       "       [ 0.94155447,  0.05826616, -1.16992097,  0.30980865],\n",
       "       [-0.18831089,  0.44670722,  1.16992097,  0.30980865],\n",
       "       [-0.18831089, -0.3301749 , -0.83565784, -1.14811442],\n",
       "       [ 0.94155447,  1.22358934,  0.83565784,  0.30980865],\n",
       "       [-0.18831089, -1.49549809, -0.83565784,  1.03877019],\n",
       "       [-0.94155447,  0.83514828,  0.5013947 ,  1.03877019],\n",
       "       [-1.69479805, -0.3301749 , -0.83565784, -1.14811442],\n",
       "       [ 1.69479805, -2.27238021,  1.16992097, -1.14811442],\n",
       "       [-0.94155447,  0.05826616,  0.16713157, -1.14811442],\n",
       "       [-1.31817626, -0.71861596, -0.83565784, -1.87707596],\n",
       "       [-0.94155447,  0.05826616, -0.5013947 ,  1.03877019],\n",
       "       [ 1.31817626,  0.05826616, -1.16992097, -0.05467212],\n",
       "       [ 0.56493268, -2.27238021, -0.16713157,  1.03877019],\n",
       "       [-1.31817626,  0.44670722,  0.16713157, -1.14811442],\n",
       "       [ 0.18831089,  0.44670722, -1.16992097,  0.67428942],\n",
       "       [-0.56493268,  0.44670722, -0.83565784,  1.03877019]])"
      ]
     },
     "execution_count": 37,
     "metadata": {},
     "output_type": "execute_result"
    }
   ],
   "source": [
    "X_train_transformed"
   ]
  },
  {
   "cell_type": "markdown",
   "id": "0a493073",
   "metadata": {},
   "source": [
    "## Почиташки\n",
    "\n",
    "\n",
    "- [Лекции Жени Соколова про линейные модели](https://github.com/esokolov/ml-course-hse/blob/master/2021-fall/lecture-notes/lecture04-linregr.pdf)\n",
    "- [Семинар про линейные модели с ФКН](https://github.com/esokolov/ml-course-hse/blob/master/2022-fall/seminars/sem02-sklearn-linregr.ipynb)\n",
    "- [Анализ малых данных (блог А.Дьяконова). Разброс и смещение](https://dyakonov.org/2018/04/25/%D1%81%D0%BC%D0%B5%D1%89%D0%B5%D0%BD%D0%B8%D0%B5-bias-%D0%B8-%D1%80%D0%B0%D0%B7%D0%B1%D1%80%D0%BE%D1%81-variance-%D0%BC%D0%BE%D0%B4%D0%B5%D0%BB%D0%B8-%D0%B0%D0%BB%D0%B3%D0%BE%D1%80%D0%B8%D1%82/)\n",
    "- [Kaggle. Ridge,Lasso, ElasticNet Regressions Explained](https://www.kaggle.com/fugacity/ridge-lasso-elasticnet-regressions-explained)\n",
    "\n",
    "\n",
    "Youtube видео с визуализациями:\n",
    "\n",
    "* [Ridge Regression](https://www.youtube.com/watch?v=Q81RR3yKn30)\n",
    "* [Lasso Regression](https://www.youtube.com/watch?v=NGf0voTMlcs)\n",
    "* [Ridge vs Lasso Regression visualized](https://www.youtube.com/watch?v=Xm2C_gTAl8c&ab_channel=StatQuestwithJoshStarmer)"
   ]
  }
 ],
 "metadata": {
  "kernelspec": {
   "display_name": "Python 3 (ipykernel)",
   "language": "python",
   "name": "python3"
  },
  "language_info": {
   "codemirror_mode": {
    "name": "ipython",
    "version": 3
   },
   "file_extension": ".py",
   "mimetype": "text/x-python",
   "name": "python",
   "nbconvert_exporter": "python",
   "pygments_lexer": "ipython3",
   "version": "3.10.9"
  }
 },
 "nbformat": 4,
 "nbformat_minor": 5
}
