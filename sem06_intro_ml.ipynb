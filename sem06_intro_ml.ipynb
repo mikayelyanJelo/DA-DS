{
 "cells": [
  {
   "cell_type": "markdown",
   "id": "d6cfcc0d",
   "metadata": {},
   "source": [
    "<center>\n",
    "<img src='https://camo.githubusercontent.com/88b0ce29beb6724c1ba363b7e025cfe33fb19baee23a88418d78fdc2ad9bc140/68747470733a2f2f7777772e71756f74656d61737465722e6f72672f696d616765732f36632f36636434343032613361343731646633346561346539323332666536643363642e6a7067' align='center' width=\"300x\">\n",
    "</center>"
   ]
  },
  {
   "cell_type": "markdown",
   "id": "87354585",
   "metadata": {},
   "source": [
    "# Андан на экономе\n",
    "\n",
    "## Семинар 6: введение в машинное обучение\n",
    "\n",
    "В этом семинаре мы с вами обсудим, что такое машинное обучение. Мы введём все основные термины и попробуем обучить свои первые модели."
   ]
  },
  {
   "cell_type": "code",
   "execution_count": 1,
   "id": "e83fe044",
   "metadata": {},
   "outputs": [],
   "source": [
    "import pandas as pd\n",
    "import matplotlib.pyplot as plt\n",
    "import seaborn as sns\n",
    "import numpy as np"
   ]
  },
  {
   "cell_type": "markdown",
   "id": "2ff3554d",
   "metadata": {},
   "source": [
    "# 1. Зачем нужно машинное обучение?\n",
    "\n",
    "В этой части семинара ваш семенарист сделает красочный интересный рассказ о том что такое машинное обучение и зачем оно нужно.\n",
    "\n",
    "<center>\n",
    "<img src='https://raw.githubusercontent.com/Vasyka/intro-ml-bi/main/week02/scheme.png' align='center' width=\"600x\">\n",
    "</center>\n",
    "\n",
    "Из этого красочного рассказа вы узнаете:\n",
    "\n",
    "1. Чем занимается машинное обучение \n",
    "2. Какиеми бывают задачи машинного оубчения\n",
    "3. Что такое обучающая выборка и обучение с учителем\n",
    "4. Какими бывают переменные объясняющие/объясняемые, непрерывные/категориальные/бинарные/другое (тексты/картинки и тп)\n",
    "5. Какими бывают модели и о каких из них мы будем говорить (линейные модели и KNN)\n",
    "6. Как измерить качество модели и зачем разбивать выборку на обучаюшую и тестовую\n",
    "7. Что такое кросс-валидация и почему разбить выборку на обучающую и тестовую недостаточно"
   ]
  },
  {
   "cell_type": "markdown",
   "id": "c65af8e8",
   "metadata": {},
   "source": [
    "Все эти понятия есть в [конспекте от Жени Соколова.](https://github.com/esokolov/ml-course-hse/blob/master/2022-fall/lecture-notes/lecture01-intro.pdf) Очень рекомендуем прочитать его."
   ]
  },
  {
   "cell_type": "markdown",
   "id": "7ca66c23",
   "metadata": {},
   "source": [
    "# 2. Данные и переменные\n",
    "\n",
    "Сегодня мы познакомимся с задачей регрессии. Будем работать с данными о рекламе и продажах. У нас есть 200 рынков. На каждом из них мы инвестировали в разную рекламу какую-то сумму.\n",
    "\n",
    "- `TV` - доллары, потраченные на ТВ рекламу для одного продукта на данном рынке (в тысячах долларов)\n",
    "- `Radio` - доллары, потраченные на радио рекламу\n",
    "- `Newspaper` - доллары, потраченные на рекламу в газетах\n",
    "- `Area` - в какой зоне происходила реклама (сельская, пригород, город)\n",
    "- `Sales` - продажи одного продукта на данном рынке (в тысячах)\n",
    "\n",
    "Будем предсказывать продажи. Они будут нашей __целевой переменной.__ Остальные переменные будут __объясняющими.__ "
   ]
  },
  {
   "cell_type": "code",
   "execution_count": 2,
   "id": "161fedcc",
   "metadata": {},
   "outputs": [
    {
     "name": "stdout",
     "output_type": "stream",
     "text": [
      "(200, 5)\n"
     ]
    },
    {
     "data": {
      "text/html": [
       "<div>\n",
       "<style scoped>\n",
       "    .dataframe tbody tr th:only-of-type {\n",
       "        vertical-align: middle;\n",
       "    }\n",
       "\n",
       "    .dataframe tbody tr th {\n",
       "        vertical-align: top;\n",
       "    }\n",
       "\n",
       "    .dataframe thead th {\n",
       "        text-align: right;\n",
       "    }\n",
       "</style>\n",
       "<table border=\"1\" class=\"dataframe\">\n",
       "  <thead>\n",
       "    <tr style=\"text-align: right;\">\n",
       "      <th></th>\n",
       "      <th>TV</th>\n",
       "      <th>Radio</th>\n",
       "      <th>Newspaper</th>\n",
       "      <th>Sales</th>\n",
       "      <th>Area</th>\n",
       "    </tr>\n",
       "  </thead>\n",
       "  <tbody>\n",
       "    <tr>\n",
       "      <th>0</th>\n",
       "      <td>230.1</td>\n",
       "      <td>37.8</td>\n",
       "      <td>69.2</td>\n",
       "      <td>22.1</td>\n",
       "      <td>suburban</td>\n",
       "    </tr>\n",
       "    <tr>\n",
       "      <th>1</th>\n",
       "      <td>44.5</td>\n",
       "      <td>39.3</td>\n",
       "      <td>45.1</td>\n",
       "      <td>10.4</td>\n",
       "      <td>urban</td>\n",
       "    </tr>\n",
       "    <tr>\n",
       "      <th>2</th>\n",
       "      <td>17.2</td>\n",
       "      <td>45.9</td>\n",
       "      <td>69.3</td>\n",
       "      <td>9.3</td>\n",
       "      <td>rural</td>\n",
       "    </tr>\n",
       "    <tr>\n",
       "      <th>3</th>\n",
       "      <td>151.5</td>\n",
       "      <td>41.3</td>\n",
       "      <td>58.5</td>\n",
       "      <td>18.5</td>\n",
       "      <td>rural</td>\n",
       "    </tr>\n",
       "    <tr>\n",
       "      <th>4</th>\n",
       "      <td>180.8</td>\n",
       "      <td>10.8</td>\n",
       "      <td>58.4</td>\n",
       "      <td>12.9</td>\n",
       "      <td>suburban</td>\n",
       "    </tr>\n",
       "  </tbody>\n",
       "</table>\n",
       "</div>"
      ],
      "text/plain": [
       "      TV  Radio  Newspaper  Sales      Area\n",
       "0  230.1   37.8       69.2   22.1  suburban\n",
       "1   44.5   39.3       45.1   10.4     urban\n",
       "2   17.2   45.9       69.3    9.3     rural\n",
       "3  151.5   41.3       58.5   18.5     rural\n",
       "4  180.8   10.8       58.4   12.9  suburban"
      ]
     },
     "execution_count": 2,
     "metadata": {},
     "output_type": "execute_result"
    }
   ],
   "source": [
    "df = pd.read_csv('Advertising.csv')\n",
    "print(df.shape)\n",
    "df.head()"
   ]
  },
  {
   "cell_type": "markdown",
   "id": "b32ab967",
   "metadata": {},
   "source": [
    "## 2.1 Объясняемая переменная\n",
    "\n",
    "Продажи - наша объясняемая переменная. Давайте посмотрим на её распределение и убедимся, что в ней нет выбросов. "
   ]
  },
  {
   "cell_type": "code",
   "execution_count": 3,
   "id": "a510c0e9",
   "metadata": {},
   "outputs": [
    {
     "data": {
      "image/png": "[encoded data removed]",
      "text/plain": [
       "<Figure size 500x300 with 1 Axes>"
      ]
     },
     "metadata": {},
     "output_type": "display_data"
    }
   ],
   "source": [
    "plt.figure(figsize=(5,3))\n",
    "sns.histplot(df.Sales);"
   ]
  },
  {
   "cell_type": "markdown",
   "id": "64728b8d",
   "metadata": {},
   "source": [
    "__Вопрос:__ Что такое выбросы? Как думаете, почему они могут нам навредить? "
   ]
  },
  {
   "cell_type": "markdown",
   "id": "cad5cdcd",
   "metadata": {},
   "source": [
    "Давайте посмотрим как объясняемая переменная связана с объясняющими. Построим для этого облака рассеивания."
   ]
  },
  {
   "cell_type": "code",
   "execution_count": 4,
   "id": "dc9865eb",
   "metadata": {},
   "outputs": [
    {
     "data": {
      "image/png": "[encoded data removed]",
      "text/plain": [
       "<Figure size 1000x300 with 3 Axes>"
      ]
     },
     "metadata": {},
     "output_type": "display_data"
    }
   ],
   "source": [
    "fig, axs = plt.subplots(1, 3, sharey=True)\n",
    "\n",
    "df.plot(kind='scatter', x='TV', y='Sales', ax=axs[0], figsize=(10, 3))\n",
    "df.plot(kind='scatter', x='Radio', y='Sales', ax=axs[1])\n",
    "df.plot(kind='scatter', x='Newspaper', y='Sales', ax=axs[2]);"
   ]
  },
  {
   "cell_type": "markdown",
   "id": "809c2771",
   "metadata": {},
   "source": [
    "__Вопрос:__ Какие зависимости вы видите? Какую линию вам хочется провести сквозь облака точек? "
   ]
  },
  {
   "cell_type": "markdown",
   "id": "e7c9d542",
   "metadata": {},
   "source": [
    "Давайте попробуем посчитать корреляцию между продажами и остальными переменными."
   ]
  },
  {
   "cell_type": "code",
   "execution_count": 5,
   "id": "5cd82b0c",
   "metadata": {},
   "outputs": [
    {
     "data": {
      "text/plain": [
       "TV           0.782224\n",
       "Radio        0.576223\n",
       "Newspaper    0.228299\n",
       "dtype: float64"
      ]
     },
     "execution_count": 5,
     "metadata": {},
     "output_type": "execute_result"
    }
   ],
   "source": [
    "df[['TV', 'Radio', 'Newspaper']].corrwith(df['Sales'])"
   ]
  },
  {
   "cell_type": "markdown",
   "id": "e37d70e8",
   "metadata": {},
   "source": [
    "Попробуем прологарифмировать переменные и снова посмотрим на картинки и корреляцию."
   ]
  },
  {
   "cell_type": "code",
   "execution_count": 6,
   "id": "c2d2340c",
   "metadata": {},
   "outputs": [],
   "source": [
    "df_log = df[['TV', 'Radio', 'Newspaper', 'Sales']].apply(lambda w: np.log(w + 1))"
   ]
  },
  {
   "cell_type": "code",
   "execution_count": 7,
   "id": "06fa8e55",
   "metadata": {},
   "outputs": [
    {
     "data": {
      "image/png": "[encoded data removed]",
      "text/plain": [
       "<Figure size 1000x300 with 3 Axes>"
      ]
     },
     "metadata": {},
     "output_type": "display_data"
    }
   ],
   "source": [
    "fig, axs = plt.subplots(1, 3, sharey=True)\n",
    "\n",
    "df_log.plot(kind='scatter', x='TV', y='Sales', ax=axs[0], figsize=(10, 3))\n",
    "df_log.plot(kind='scatter', x='Radio', y='Sales', ax=axs[1])\n",
    "df_log.plot(kind='scatter', x='Newspaper', y='Sales', ax=axs[2]);"
   ]
  },
  {
   "cell_type": "code",
   "execution_count": 8,
   "id": "eb9bd6d9",
   "metadata": {},
   "outputs": [
    {
     "data": {
      "text/plain": [
       "TV           0.851895\n",
       "Radio        0.475380\n",
       "Newspaper    0.167691\n",
       "dtype: float64"
      ]
     },
     "execution_count": 8,
     "metadata": {},
     "output_type": "execute_result"
    }
   ],
   "source": [
    "df_log[['TV', 'Radio', 'Newspaper']].corrwith(df_log['Sales'])"
   ]
  },
  {
   "cell_type": "markdown",
   "id": "532e11c2",
   "metadata": {},
   "source": [
    "__Вопрос:__ Что произошло с картинками и корреляцией? Как думаете, что это означает?"
   ]
  },
  {
   "cell_type": "markdown",
   "id": "3a9a44d7",
   "metadata": {},
   "source": [
    "## 2.2 Объясняющие переменные\n",
    "\n",
    "Все переменные из таблички можно поделить на две части: непрерывные и категориальные. Делать их предобработку нужно по-разному. \n",
    "\n",
    "* непрерывные переменные принимают любые действительные значения\n",
    "* категориальные принимают значения из ограниченного множества значений"
   ]
  },
  {
   "cell_type": "markdown",
   "id": "3e16d7fa",
   "metadata": {},
   "source": [
    "### Непрерывные переменные \n",
    "\n",
    "При предварительном анализе непрерывных переменных обычно смотрят на следующие проблемы. \n",
    "\n",
    "__1) Пропуски.__\n",
    "\n",
    "В данных могут встречаться пропущенные значения. Их надо предобработать. Многие модели не умеют работать с пропусками. Если пропусков немного, можно удалить объекты с пропусками из обучающей выборки. Заполнить пропуски можно разными способами:\n",
    "\n",
    "* заполнить средними (mean, median);\n",
    "* предсказывать пропущенные значения по непропущенным.\n",
    "\n",
    "Последний вариант сложный и применяется редко. Посмотрим на наши данные."
   ]
  },
  {
   "cell_type": "code",
   "execution_count": 9,
   "id": "853967e0",
   "metadata": {},
   "outputs": [
    {
     "data": {
      "text/plain": [
       "TV           0\n",
       "Radio        0\n",
       "Newspaper    0\n",
       "Sales        0\n",
       "Area         0\n",
       "dtype: int64"
      ]
     },
     "execution_count": 9,
     "metadata": {},
     "output_type": "execute_result"
    }
   ],
   "source": [
    "df.isnull().sum()"
   ]
  },
  {
   "cell_type": "markdown",
   "id": "a4753dd2",
   "metadata": {},
   "source": [
    "Пропусков нет. \n",
    "\n",
    "Всегда нужно анализировать, случайны ли пропуски в каком-то признаке. Иногда факт отсутствия информации о значении признака может сам быть важным признаком, который необходимо добавить к другим признакам.\n",
    "\n",
    "__Пример:__ предсказание возраста пользователя по данным с его телефона. Поскольку люди старшего возраста чаще пользуются простыми телефонами, факт отсутствия каких-то данных (например, истории посещенных интернет-страниц), скорее всего, будет хорошим признаком."
   ]
  },
  {
   "cell_type": "markdown",
   "id": "f23059b8",
   "metadata": {},
   "source": [
    "__2) Выбросы.__ Выбросы могут сломать работу многих моделей. Мы должны чётко отдавать себе отчёт в том, есть ли в наших данных выбросы и могут ли они навредить. Если могут, выбросы пытаются сгладить либо выкидывают из данных. Построим распределение для наших переменных. "
   ]
  },
  {
   "cell_type": "code",
   "execution_count": 10,
   "id": "21a38e75",
   "metadata": {},
   "outputs": [
    {
     "data": {
      "image/png": "[encoded data removed]",
      "text/plain": [
       "<Figure size 640x480 with 4 Axes>"
      ]
     },
     "metadata": {},
     "output_type": "display_data"
    }
   ],
   "source": [
    "df.hist();"
   ]
  },
  {
   "cell_type": "markdown",
   "id": "33fc5aad",
   "metadata": {},
   "source": [
    "Данные выглядят довольно приятно. У распределений нет длинных хвостов либо резко выделяющихся значений."
   ]
  },
  {
   "cell_type": "markdown",
   "id": "50b64e8d",
   "metadata": {},
   "source": [
    "__3) Масштабирование признаков.__\n",
    "\n",
    "При начале работы с данными всегда рекомендуется приводить все признаки к одному масштабу. Это важно для численной устойчивости при работе с данными (рядом с нулем чисел с плавающей точкой больше, чем с области больших чисел). Кроме того, у каждого метода машинного обучения есть свои особенности, требующие масштабирования признаков. Например, для линейных моделей - это ускорение обучения и повышение интерпретируемости модели.\n",
    "\n",
    "Первый популярный способ масштабирования - нормализация: вычитание среднего из каждого признака и деление на стандартное отклонение (`StandardScaler` в sklearn). Второй популярный способ: вычитание минимума из каждого признака, а затем деление на разницу максимального и минимального значения (`MinMaxScaler` в sklearn).\n",
    "\n",
    "Мы отмасштабируем данные немного позже."
   ]
  },
  {
   "cell_type": "markdown",
   "id": "14acc6ad",
   "metadata": {},
   "source": [
    "### Категориальные переменные \n",
    "\n",
    "Категориальная переменная у нас одна: `Area`. Она принимает $3$ различных значения."
   ]
  },
  {
   "cell_type": "code",
   "execution_count": 11,
   "id": "3adc7eed",
   "metadata": {},
   "outputs": [
    {
     "data": {
      "text/plain": [
       "rural       71\n",
       "suburban    69\n",
       "urban       60\n",
       "Name: Area, dtype: int64"
      ]
     },
     "execution_count": 11,
     "metadata": {},
     "output_type": "execute_result"
    }
   ],
   "source": [
    "df['Area'].value_counts()"
   ]
  },
  {
   "cell_type": "markdown",
   "id": "f4fb1280",
   "metadata": {},
   "source": [
    "Мы не можем отправить переменную в модель в таком виде. Компьютер понимает только числа. Надо заменить все категории на числа. Вопрос в том, как бы это лучше сделать. Переменная принимает $3$ значения. Возникает соблазн заменить  все `rural` на 1, `suburban` на 2, `urban` на 3. \n",
    "\n",
    "Это неправильный подход. Мы вводим искуственный порядок. Каждый из нас может придумать свой порядок. Возникает неоднозначность. Более того, некоторые алгоритмы могут подумать, что третий тип самый лучший, а первый самый плохой. \n",
    "\n",
    "Чтобы не путать алгоритм, поступают следующим образом: делают из категориальной переменной много бинарных переменных ( дамми-переменных), они принимают значения $1$ или $0$."
   ]
  },
  {
   "cell_type": "code",
   "execution_count": 12,
   "id": "07005f64",
   "metadata": {},
   "outputs": [
    {
     "data": {
      "text/html": [
       "<div>\n",
       "<style scoped>\n",
       "    .dataframe tbody tr th:only-of-type {\n",
       "        vertical-align: middle;\n",
       "    }\n",
       "\n",
       "    .dataframe tbody tr th {\n",
       "        vertical-align: top;\n",
       "    }\n",
       "\n",
       "    .dataframe thead th {\n",
       "        text-align: right;\n",
       "    }\n",
       "</style>\n",
       "<table border=\"1\" class=\"dataframe\">\n",
       "  <thead>\n",
       "    <tr style=\"text-align: right;\">\n",
       "      <th></th>\n",
       "      <th>rural</th>\n",
       "      <th>suburban</th>\n",
       "      <th>urban</th>\n",
       "    </tr>\n",
       "  </thead>\n",
       "  <tbody>\n",
       "    <tr>\n",
       "      <th>0</th>\n",
       "      <td>0</td>\n",
       "      <td>1</td>\n",
       "      <td>0</td>\n",
       "    </tr>\n",
       "    <tr>\n",
       "      <th>1</th>\n",
       "      <td>0</td>\n",
       "      <td>0</td>\n",
       "      <td>1</td>\n",
       "    </tr>\n",
       "    <tr>\n",
       "      <th>2</th>\n",
       "      <td>1</td>\n",
       "      <td>0</td>\n",
       "      <td>0</td>\n",
       "    </tr>\n",
       "    <tr>\n",
       "      <th>3</th>\n",
       "      <td>1</td>\n",
       "      <td>0</td>\n",
       "      <td>0</td>\n",
       "    </tr>\n",
       "    <tr>\n",
       "      <th>4</th>\n",
       "      <td>0</td>\n",
       "      <td>1</td>\n",
       "      <td>0</td>\n",
       "    </tr>\n",
       "  </tbody>\n",
       "</table>\n",
       "</div>"
      ],
      "text/plain": [
       "   rural  suburban  urban\n",
       "0      0         1      0\n",
       "1      0         0      1\n",
       "2      1         0      0\n",
       "3      1         0      0\n",
       "4      0         1      0"
      ]
     },
     "execution_count": 12,
     "metadata": {},
     "output_type": "execute_result"
    }
   ],
   "source": [
    "pd.get_dummies(df['Area']).head()"
   ]
  },
  {
   "cell_type": "markdown",
   "id": "71fb0b81",
   "metadata": {},
   "source": [
    "Если рынок относится к типу `rural`, то у него в соответствующем столбце будет стоять единичка, а в остальных нули.\n",
    "\n",
    "__Приятный бонус:__  Не нужно бороться с пропусками в переменных. Для пропусков будет своя дамми и мы не потеряем информации. Такой способ работы с категориями называется One Hot Encoding. \n",
    "\n",
    "Дословно можно перевести как одно горячее кодирование (это шутка такая, если вы так скажите какому-то аналитку, он сначала вас не поймёт, а потом, наверное, поугарает, правильно это называется бинаризация категориальных признаков).\n",
    "\n",
    "В чём минус одного горячего кодирования? Можно обжечься. Если категорий внутри переменной много, то мы переработаем её в слишком большое число столбцов. В конечном итоге это может привести к тому, что модели не хватит наблюдений, чтобы научиться в этом огромном числе столбцов ориентироваться."
   ]
  },
  {
   "cell_type": "code",
   "execution_count": 13,
   "id": "a081e4f7",
   "metadata": {},
   "outputs": [
    {
     "data": {
      "text/html": [
       "<div>\n",
       "<style scoped>\n",
       "    .dataframe tbody tr th:only-of-type {\n",
       "        vertical-align: middle;\n",
       "    }\n",
       "\n",
       "    .dataframe tbody tr th {\n",
       "        vertical-align: top;\n",
       "    }\n",
       "\n",
       "    .dataframe thead th {\n",
       "        text-align: right;\n",
       "    }\n",
       "</style>\n",
       "<table border=\"1\" class=\"dataframe\">\n",
       "  <thead>\n",
       "    <tr style=\"text-align: right;\">\n",
       "      <th></th>\n",
       "      <th>suburban</th>\n",
       "      <th>urban</th>\n",
       "    </tr>\n",
       "  </thead>\n",
       "  <tbody>\n",
       "    <tr>\n",
       "      <th>0</th>\n",
       "      <td>1</td>\n",
       "      <td>0</td>\n",
       "    </tr>\n",
       "    <tr>\n",
       "      <th>1</th>\n",
       "      <td>0</td>\n",
       "      <td>1</td>\n",
       "    </tr>\n",
       "    <tr>\n",
       "      <th>2</th>\n",
       "      <td>0</td>\n",
       "      <td>0</td>\n",
       "    </tr>\n",
       "    <tr>\n",
       "      <th>3</th>\n",
       "      <td>0</td>\n",
       "      <td>0</td>\n",
       "    </tr>\n",
       "    <tr>\n",
       "      <th>4</th>\n",
       "      <td>1</td>\n",
       "      <td>0</td>\n",
       "    </tr>\n",
       "  </tbody>\n",
       "</table>\n",
       "</div>"
      ],
      "text/plain": [
       "   suburban  urban\n",
       "0         1      0\n",
       "1         0      1\n",
       "2         0      0\n",
       "3         0      0\n",
       "4         1      0"
      ]
     },
     "execution_count": 13,
     "metadata": {},
     "output_type": "execute_result"
    }
   ],
   "source": [
    "pd.get_dummies(df['Area'], drop_first=True).head()"
   ]
  },
  {
   "cell_type": "markdown",
   "id": "948cd98e",
   "metadata": {},
   "source": [
    "Одну из трёх переменных нужно выкинуть. Она избыточная. Вот как мы интерпретируем кодировку:\n",
    "\n",
    "- **сельский** кодируется как Area_suburban=0 и Area_urban=0\n",
    "- **suburban** кодируется как Area_suburban=1 и Area_urban=0\n",
    "- **urban** кодируется как Area_suburban=0 и Area_urban=1\n",
    "\n",
    "Две дамми переменные захватывают всю информацию об признаке Area и неявно определяют сельскую местность как базовое значение. (В общем случае, если у вас есть категориальный признак с $k$ уровнями, вы создаете фиктивные переменные $k-1$)."
   ]
  },
  {
   "cell_type": "code",
   "execution_count": 14,
   "id": "a34a6c86",
   "metadata": {},
   "outputs": [
    {
     "data": {
      "text/html": [
       "<div>\n",
       "<style scoped>\n",
       "    .dataframe tbody tr th:only-of-type {\n",
       "        vertical-align: middle;\n",
       "    }\n",
       "\n",
       "    .dataframe tbody tr th {\n",
       "        vertical-align: top;\n",
       "    }\n",
       "\n",
       "    .dataframe thead th {\n",
       "        text-align: right;\n",
       "    }\n",
       "</style>\n",
       "<table border=\"1\" class=\"dataframe\">\n",
       "  <thead>\n",
       "    <tr style=\"text-align: right;\">\n",
       "      <th></th>\n",
       "      <th>TV</th>\n",
       "      <th>Radio</th>\n",
       "      <th>Newspaper</th>\n",
       "      <th>Sales</th>\n",
       "      <th>Area_suburban</th>\n",
       "      <th>Area_urban</th>\n",
       "    </tr>\n",
       "  </thead>\n",
       "  <tbody>\n",
       "    <tr>\n",
       "      <th>0</th>\n",
       "      <td>230.1</td>\n",
       "      <td>37.8</td>\n",
       "      <td>69.2</td>\n",
       "      <td>22.1</td>\n",
       "      <td>1</td>\n",
       "      <td>0</td>\n",
       "    </tr>\n",
       "    <tr>\n",
       "      <th>1</th>\n",
       "      <td>44.5</td>\n",
       "      <td>39.3</td>\n",
       "      <td>45.1</td>\n",
       "      <td>10.4</td>\n",
       "      <td>0</td>\n",
       "      <td>1</td>\n",
       "    </tr>\n",
       "    <tr>\n",
       "      <th>2</th>\n",
       "      <td>17.2</td>\n",
       "      <td>45.9</td>\n",
       "      <td>69.3</td>\n",
       "      <td>9.3</td>\n",
       "      <td>0</td>\n",
       "      <td>0</td>\n",
       "    </tr>\n",
       "    <tr>\n",
       "      <th>3</th>\n",
       "      <td>151.5</td>\n",
       "      <td>41.3</td>\n",
       "      <td>58.5</td>\n",
       "      <td>18.5</td>\n",
       "      <td>0</td>\n",
       "      <td>0</td>\n",
       "    </tr>\n",
       "    <tr>\n",
       "      <th>4</th>\n",
       "      <td>180.8</td>\n",
       "      <td>10.8</td>\n",
       "      <td>58.4</td>\n",
       "      <td>12.9</td>\n",
       "      <td>1</td>\n",
       "      <td>0</td>\n",
       "    </tr>\n",
       "  </tbody>\n",
       "</table>\n",
       "</div>"
      ],
      "text/plain": [
       "      TV  Radio  Newspaper  Sales  Area_suburban  Area_urban\n",
       "0  230.1   37.8       69.2   22.1              1           0\n",
       "1   44.5   39.3       45.1   10.4              0           1\n",
       "2   17.2   45.9       69.3    9.3              0           0\n",
       "3  151.5   41.3       58.5   18.5              0           0\n",
       "4  180.8   10.8       58.4   12.9              1           0"
      ]
     },
     "execution_count": 14,
     "metadata": {},
     "output_type": "execute_result"
    }
   ],
   "source": [
    "df = pd.get_dummies(df, drop_first=True) # ко всем object применится OHE\n",
    "df.head()"
   ]
  },
  {
   "cell_type": "markdown",
   "id": "810fc573",
   "metadata": {},
   "source": [
    "# 3. Как измерить качество модели\n",
    "\n",
    "Мы решаем задачу регрессии. Нужно прогнозировать действительные числа. Качество прогнозов, которые мы делаем нужно оценивать с помощью какой-то метрики.\n",
    "\n",
    "## 3.1 Метрики регрессии"
   ]
  },
  {
   "cell_type": "code",
   "execution_count": 15,
   "id": "f7087e03",
   "metadata": {},
   "outputs": [],
   "source": [
    "from sklearn import metrics  # подгружаем метрики\n",
    "\n",
    "y_test = [4,20,110]\n",
    "y_pred = [5,10,100]"
   ]
  },
  {
   "cell_type": "markdown",
   "id": "0747a02a",
   "metadata": {},
   "source": [
    "Давайте посмотрим на основные метрики качества. Будем обозначать буквой $y_i$ настоящее значение объясняемой переменной. Буквой $\\hat y_i$ будем обозначать прогноз.\n",
    "\n",
    "### Средняя абсолютная ошибка, MAE\n",
    "\n",
    "$$\n",
    "MAE = \\frac{1}{n}\\sum_{i=1}^{n} |y_i - \\hat{y}_i|.\n",
    "$$\n",
    "\n"
   ]
  },
  {
   "cell_type": "code",
   "execution_count": 16,
   "id": "a6c58cb1",
   "metadata": {},
   "outputs": [
    {
     "data": {
      "text/plain": [
       "7.0"
      ]
     },
     "execution_count": 16,
     "metadata": {},
     "output_type": "execute_result"
    }
   ],
   "source": [
    "metrics.mean_absolute_error(y_test, y_pred)"
   ]
  },
  {
   "cell_type": "markdown",
   "id": "721965b1",
   "metadata": {},
   "source": [
    "Можно нарисовать $MAE$ на картинке. По оси $x$ отложим ошибку прогноза. о оси $y$ будем откладывать то, насколько сильный штраф мы накладываем за такую ошибку. В случае $MAE$ штраф за ошибку в $1$ равен $1$. То есть мы получаем прямую под углом в $45$ градусов. В отрицательную сторону ошибка также штрафуется один к одному. График выглядит, как галочка. "
   ]
  },
  {
   "cell_type": "code",
   "execution_count": 17,
   "id": "e9d5e5e9",
   "metadata": {},
   "outputs": [
    {
     "data": {
      "image/png": "[encoded data removed]",
      "text/plain": [
       "<Figure size 500x400 with 1 Axes>"
      ]
     },
     "metadata": {},
     "output_type": "display_data"
    }
   ],
   "source": [
    "error = np.linspace(-3, 3, 300)\n",
    "mae = np.abs(error)\n",
    "\n",
    "plt.figure(figsize=(5,4))\n",
    "plt.plot(error, mae)\n",
    "plt.ylabel('MAE', fontsize=14);\n",
    "plt.xlabel('$y_i - \\hat y_i$', fontsize=14);"
   ]
  },
  {
   "cell_type": "markdown",
   "id": "d58fdc5c",
   "metadata": {},
   "source": [
    "### Средняя квадратичная ошибка, MSE\n",
    "\n",
    "$$ MSE = \\frac{1}{n}\\sum_{i=1}^{n} (y_i - \\hat{y}_i)^2$$"
   ]
  },
  {
   "cell_type": "code",
   "execution_count": 18,
   "id": "80ffbdeb",
   "metadata": {},
   "outputs": [
    {
     "data": {
      "text/plain": [
       "67.0"
      ]
     },
     "execution_count": 18,
     "metadata": {},
     "output_type": "execute_result"
    }
   ],
   "source": [
    "metrics.mean_squared_error(y_test, y_pred)"
   ]
  },
  {
   "cell_type": "markdown",
   "id": "b74d6408",
   "metadata": {},
   "source": [
    "MSE позволяет штрафовать за ошибку нелинейно. Чем сильнее мы ошибаемся, тем больше наказание. Посчитали, на формулу посмотрели. Если мы ошиблись на 5, то в потери войдёт 25. Если мы ошиблись на 10, то в потери войдёт 100. Чем выше ошибка, тем сильнее потери. При этом наказание растёт квадратично."
   ]
  },
  {
   "cell_type": "code",
   "execution_count": 19,
   "id": "d1247e31",
   "metadata": {},
   "outputs": [
    {
     "data": {
      "image/png": "[encoded data removed]",
      "text/plain": [
       "<Figure size 500x400 with 1 Axes>"
      ]
     },
     "metadata": {},
     "output_type": "display_data"
    }
   ],
   "source": [
    "mse = error ** 2\n",
    "\n",
    "plt.figure(figsize=(5,4))\n",
    "plt.plot(error, mae, label='mae')\n",
    "plt.plot(error, mse, label='mse')\n",
    "plt.ylabel('ошибка', fontsize=14);\n",
    "plt.xlabel('$y_i - \\hat y_i$', fontsize=14)\n",
    "plt.legend();"
   ]
  },
  {
   "cell_type": "markdown",
   "id": "9fa5c767",
   "metadata": {},
   "source": [
    "У $MSE$ есть проблемы с выбросами. Она очень резко реагирует на них и штрафует за их наличие очень сильно.  Если вы хотите использовать $MSE$ и знаете, что у вас в данных выбросы, от них нужно избавиться заранее. \n",
    "\n",
    "__Вопрос:__ а чувствительна ли к выбросам  $MAE$?"
   ]
  },
  {
   "cell_type": "markdown",
   "id": "9a9de77b",
   "metadata": {},
   "source": [
    "На практике из MSE часто извлекают корень. Получается другая метрика, RMSE. Это делают из-за того, что MSE измеряется в квадратных величинах."
   ]
  },
  {
   "cell_type": "code",
   "execution_count": 20,
   "id": "0f42a9b2",
   "metadata": {},
   "outputs": [
    {
     "data": {
      "text/plain": [
       "8.18535277187245"
      ]
     },
     "execution_count": 20,
     "metadata": {},
     "output_type": "execute_result"
    }
   ],
   "source": [
    "np.sqrt(metrics.mean_squared_error(y_test, y_pred))"
   ]
  },
  {
   "cell_type": "markdown",
   "id": "1f13db59",
   "metadata": {},
   "source": [
    "### Средняя абсолютная процентная ошибка, MAPE \n",
    "\n",
    "Часто для нас принципиальным является не то, на сколько лайков мы ошиблись, а то, на сколько процентов мы ошиблись. Метрика, которая отлавливает процентную ошибку, называется $MAPE$ (mean absolute percentage error), средняя абсолютная процентная ошибка. "
   ]
  },
  {
   "cell_type": "markdown",
   "id": "2b711d50",
   "metadata": {},
   "source": [
    "$$\n",
    "MAPE = \\frac{1}{n} \\sum_{i=1}^n \\frac{|y_i - \\hat{y}_i|}{y_i}\n",
    "$$"
   ]
  },
  {
   "cell_type": "markdown",
   "id": "1cf4bb8c",
   "metadata": {},
   "source": [
    "Если вы предсказали  $1$, а в реальности было  $10$ — это не то же самое, что вы предсказали  $1000$, а в реальности было $1009$: в одном случае вы ошиблись в $10$ раз, а в другом — совсем чуть-чуть. С точки зрения МАЕ или MSE, это две совершенно одинаковые ошибки: $|1009 - 1000| = |10 - 1| = 9$. А если вас интересует относительная ошибка, т.е. на сколько процентов вы ошибаетесь, то следует использовать МАРЕ.\n",
    "\n",
    "В первой ситуации мы ошиблись на $100 \\cdot \\frac{|1 - 10|}{10} = 90$ процентов от реального результата. Во второй ситуации на $100 \\cdot \\frac{|1000 - 1010|}{1009} \\approx 1$ процент от реального результата.\n",
    "\n",
    "Часто MAPE используют в финансах, поскольку там важен процент, который мы получаем в качестве дохода, а не абсолютное значение. "
   ]
  },
  {
   "cell_type": "code",
   "execution_count": 21,
   "id": "e3eaf5d4",
   "metadata": {},
   "outputs": [
    {
     "data": {
      "text/plain": [
       "0.28030303030303033"
      ]
     },
     "execution_count": 21,
     "metadata": {},
     "output_type": "execute_result"
    }
   ],
   "source": [
    "metrics.mean_absolute_percentage_error(y_test,y_pred)"
   ]
  },
  {
   "cell_type": "markdown",
   "id": "1093f4e8",
   "metadata": {},
   "source": [
    "Этого набора метрик нам для начала хватит. На практике часто используются разные другие метрики. Про них можно подробнее почитать, [например в книге Дьяконова](https://alexanderdyakonov.files.wordpress.com/2018/10/book_08_metrics_12_blog1.pdf) и [конспекте Жени Соколова.](https://github.com/esokolov/ml-course-hse/blob/master/2022-fall/lecture-notes/lecture02-linregr.pdf)"
   ]
  },
  {
   "cell_type": "code",
   "execution_count": 22,
   "id": "1896b015",
   "metadata": {},
   "outputs": [
    {
     "name": "stdout",
     "output_type": "stream",
     "text": [
      "MAE: 7.0000\n",
      "RMSE: 8.1854\n",
      "MAPE: 0.2803\n"
     ]
    }
   ],
   "source": [
    "def print_metrics(y_test,y_pred):\n",
    "    print('MAE:', \"%.4f\" % metrics.mean_absolute_error(y_test, y_pred))\n",
    "    print('RMSE:', \"%.4f\" % np.sqrt(metrics.mean_squared_error(y_test, y_pred)))\n",
    "    print('MAPE:', \"%.4f\" % metrics.mean_absolute_percentage_error(y_test,y_pred))\n",
    "\n",
    "print_metrics(y_test,y_pred)"
   ]
  },
  {
   "cell_type": "markdown",
   "id": "91eb13db",
   "metadata": {},
   "source": [
    "Для задачи классификации у нас будет другой набор метрик, с которым мы познакомимся позже."
   ]
  },
  {
   "cell_type": "markdown",
   "id": "d524f895",
   "metadata": {},
   "source": [
    "## 3.2 Разбиение выборки на обучающую и тестовую\n",
    "\n",
    "Когда мы обучаем модель на тренировочных данных, нам хочется понять насколько хорошо она работает в боевых условиях. Выборка, на которой мы учимся, не подходит для этих целей. Так как знания об этих объектах уже будут лежать в нашей модели, а в реальной жизни будут встречаться и новые, ранее неизвестные объекты. \n",
    "\n",
    "Разобьём выборку на две части: обучающую и тестовую. Будем учить модель только на обучающей части. Тогда при обучении алгоритм не увидит тестовые примеры. Значит можно использовать её для имитации этих самых новых объектов из реальной жизни и посмотреть какое на них будет качество."
   ]
  },
  {
   "cell_type": "code",
   "execution_count": 23,
   "id": "774d668e",
   "metadata": {},
   "outputs": [],
   "source": [
    "from sklearn.model_selection import train_test_split  # функция для деления \n",
    "\n",
    "# делим в пропорции 80 к 20\n",
    "df_train, df_test = train_test_split(df, test_size = 0.2, random_state=42)"
   ]
  },
  {
   "cell_type": "code",
   "execution_count": 24,
   "id": "da0f76f4",
   "metadata": {},
   "outputs": [],
   "source": [
    "y_train = df_train['Sales'].to_numpy()\n",
    "y_test = df_test['Sales'].to_numpy()\n",
    "\n",
    "X_train = df_train.drop('Sales', axis=1).to_numpy()\n",
    "X_test = df_test.drop('Sales', axis=1).to_numpy()\n",
    "\n",
    "feature_names = df_train.drop('Sales', axis=1).columns"
   ]
  },
  {
   "cell_type": "code",
   "execution_count": 25,
   "id": "409401ef",
   "metadata": {},
   "outputs": [
    {
     "data": {
      "text/plain": [
       "((160, 5), (40, 5))"
      ]
     },
     "execution_count": 25,
     "metadata": {},
     "output_type": "execute_result"
    }
   ],
   "source": [
    "X_train.shape, X_test.shape"
   ]
  },
  {
   "cell_type": "markdown",
   "id": "f4300b3c",
   "metadata": {},
   "source": [
    "# 4. Обучаем модель\n",
    "\n",
    "Ниже мы будем активно использовать следующие два понятия:\n",
    "\n",
    "__Параметры__ — это величины, которые мы настраиваем в процессе обучения по обучающей выборке. \n",
    "\n",
    "__Гиперпараметры__ — это величины, которые мы должны установить до начала обучения модели. Гиперпараметры не настраиваются по обучающей выборке в процессе обучения модели."
   ]
  },
  {
   "cell_type": "markdown",
   "id": "ab874367",
   "metadata": {},
   "source": [
    "## 4.1 Наивный прогноз \n",
    "\n",
    "Чтобы понять, насколько хорошо работает модель, надо с чем-то сравнивать результат её работы. Давайте посчитаем на обучающей выборке средние продажи и используем это значение в качестве прогноза для всех наблюдений тестовой выборки. C получившимся качеством мы будем сравнивать все остальные модели. Такую, самую простую модель, обычно называют бейзлайном."
   ]
  },
  {
   "cell_type": "code",
   "execution_count": 26,
   "id": "93fb7d2f",
   "metadata": {},
   "outputs": [],
   "source": [
    "y_mean = np.mean(y_train)                     # посчитали среднее \n",
    "y_pred_naive = np.ones(len(y_test)) * y_mean  # спрогнозировали им лайки"
   ]
  },
  {
   "cell_type": "code",
   "execution_count": 27,
   "id": "f523d286",
   "metadata": {},
   "outputs": [
    {
     "name": "stdout",
     "output_type": "stream",
     "text": [
      "MAE: 4.9625\n",
      "RMSE: 5.6315\n",
      "MAPE: 0.4443\n"
     ]
    }
   ],
   "source": [
    "print_metrics(y_test, y_pred_naive)"
   ]
  },
  {
   "cell_type": "markdown",
   "id": "11115e3a",
   "metadata": {},
   "source": [
    "__Вопрос:__ Что означают эти числа? Насколько плохи наши дела?"
   ]
  },
  {
   "cell_type": "markdown",
   "id": "660c92ef",
   "metadata": {},
   "source": [
    "## 4.2 Интерфейс Scikit-Learn\n",
    "\n",
    "Scikit-Learn, или коротко Sklearn - библиотека, в которой реализованы практически все используемые сегодня алгоритмы машинного обучения. Нам необходимо познакомиться с интерфейсом библиотеки, чтобы понимать, как ее можно использовать на практике. \n",
    "\n",
    "Для реализации алгоритмов машинного обучения в `sklearn` всегда используется один интерфейс - класс с методами `fit(X, Y)` для обучения модели по обучающей выборке $X, Y$ и `predict(X)` для возвращения предсказаний на выборке $X$. При создании класса можно указывать дополнительные параметры, влияющие на работу алгоритма машинного обучения.\n",
    "\n",
    "Например, такова будет логика работы класса линейной регрессии, которую мы подробно изучим на следующих семинарах:\n",
    "\n",
    "* При создании класса нужно запомнить коэффициент регуляризации;\n",
    "* Задача функции fit - по выборке X и Y найти веса w и сохранить их внутри класса в self.w;\n",
    "* Задача функции predict - по весам self.w и X вернуть предсказания $Y$."
   ]
  },
  {
   "cell_type": "raw",
   "id": "84d24378",
   "metadata": {},
   "source": [
    "class LinearRegressor:\n",
    "    def __init__(self, reg_coef: float = None) -> None:\n",
    "        self.lambda_ = reg_coef\n",
    "    \n",
    "    def fit(self, X_train: np.array, y_train: np.array) -> None:\n",
    "        self.w =  # формула для вычисления весов, X, y и self.lambda_\n",
    "    \n",
    "    def predict(self, X_test: np.array) -> np.array:\n",
    "        y_pred =  # функция от X и self.w\n",
    "        \n",
    "        return y_pred"
   ]
  },
  {
   "cell_type": "markdown",
   "id": "75ac76c6",
   "metadata": {},
   "source": [
    "Если бы мы не использовали класс, нам пришлось бы передавать веса w в функцию predict каждый раз, когда мы захотели бы сделать предсказания, это неудобно (особенно если таких вспомогательных переменных много). А так веса хранятся внутри класса, и мы можем даже не догадываться об их существовании (если класс писали не мы).\n",
    "\n",
    "Помимо алгоритмов обучения и предсказания для разных методов, в sklearn реализовано много вспомогательного функционала для предобработки данных, визуализации данных, вычисления метрик качества и т. д. В ходе следующих семинаров мы постепенно познакомимся с этим функционалом библиотеки.\n"
   ]
  },
  {
   "cell_type": "markdown",
   "id": "c3b6aee8",
   "metadata": {},
   "source": [
    "## 4.3 Линейная регрессия\n",
    "\n",
    "Давайте обучим наш первый алгоритм. Сначала обучим, потом будем разбираться что произошло. Это будет линейная регрессия. "
   ]
  },
  {
   "cell_type": "code",
   "execution_count": 28,
   "id": "90d84a9f",
   "metadata": {},
   "outputs": [],
   "source": [
    "#Что хотим увидеть\n",
    "from sklearn.linear_model import LinearRegression # подгрузили модель\n",
    "\n",
    "# Объявили модель\n",
    "model_regression = LinearRegression()\n",
    "\n",
    "# Обучили модель на тренировочной выборке \n",
    "model_regression.fit(X_train, y_train)\n",
    "\n",
    "# Сделали прогнозы на тестовой выборке \n",
    "y_pred_regr = model_regression.predict(X_test)"
   ]
  },
  {
   "cell_type": "code",
   "execution_count": 29,
   "id": "0507e7e9",
   "metadata": {},
   "outputs": [
    {
     "name": "stdout",
     "output_type": "stream",
     "text": [
      "MAE: 1.4803\n",
      "RMSE: 1.7993\n",
      "MAPE: 0.1540\n"
     ]
    }
   ],
   "source": [
    "print_metrics(y_test, y_pred_regr)"
   ]
  },
  {
   "cell_type": "markdown",
   "id": "0aaf78ac",
   "metadata": {},
   "source": [
    "__Вопрос:__ Что означают эти числа? Насколько плохи наши дела?"
   ]
  },
  {
   "cell_type": "markdown",
   "id": "c6527957",
   "metadata": {},
   "source": [
    "Мы с вами только что обучили следующее уравнение:\n",
    "\n",
    "$$\n",
    "Sales = w_0 + w_1 \\cdot TV + w_2 \\cdot Radio + w_3 \\cdot Newspaper + w_4 \\cdot Area\\ suburban + w_5 \\cdot Area\\ urban\n",
    "$$\n",
    "\n",
    "Мы пытаемся объяснить продажи через расходы на маркетинг. Каждая объясняющая переменная вносит свой вклад с каким-то коэффициентом. Давайте посмотрим на них:"
   ]
  },
  {
   "cell_type": "code",
   "execution_count": 30,
   "id": "39d9a532",
   "metadata": {},
   "outputs": [
    {
     "data": {
      "text/plain": [
       "array([ 0.04482017,  0.18995499,  0.00281706, -0.22006653, -0.11379965])"
      ]
     },
     "execution_count": 30,
     "metadata": {},
     "output_type": "execute_result"
    }
   ],
   "source": [
    "model_regression.coef_  # коэффициенты модели"
   ]
  },
  {
   "cell_type": "code",
   "execution_count": 31,
   "id": "1198755a",
   "metadata": {},
   "outputs": [
    {
     "data": {
      "text/plain": [
       "3.0534457425468613"
      ]
     },
     "execution_count": 31,
     "metadata": {},
     "output_type": "execute_result"
    }
   ],
   "source": [
    "model_regression.intercept_"
   ]
  },
  {
   "cell_type": "code",
   "execution_count": 32,
   "id": "ea245f0b",
   "metadata": {
    "scrolled": true
   },
   "outputs": [
    {
     "data": {
      "text/plain": [
       "Index(['TV', 'Radio', 'Newspaper', 'Area_suburban', 'Area_urban'], dtype='object')"
      ]
     },
     "execution_count": 32,
     "metadata": {},
     "output_type": "execute_result"
    }
   ],
   "source": [
    "feature_names"
   ]
  },
  {
   "cell_type": "markdown",
   "id": "a4eece5f",
   "metadata": {},
   "source": [
    "Выходит, что наше уравнение имеет вид \n",
    "\n",
    "$$\n",
    "Sales = 3.053 + 0.045 \\cdot TV + 0.189 \\cdot Radio + 0.003 \\cdot Newspaper - -0.220 \\cdot Area\\ suburban -0.114 \\cdot Area\\ urban.\n",
    "$$\n",
    "\n",
    "Если к нам приходит новое наблюдение, мы подставляем его в уравнение и получаем прогноз. Коэффициенты в линейной регрессии подбираются с помощью минимизации MSE. Это делается градиентным спуском. Подробнее об этом мы поговорим в следующем семинаре."
   ]
  },
  {
   "cell_type": "markdown",
   "id": "1749901a",
   "metadata": {},
   "source": [
    "__Вопрос:__ Попробуйте обучить модель на прологарифмированных данных. Как думаете, улучшится ли её качество? Как в случае такой модели строится прогноз?"
   ]
  },
  {
   "cell_type": "markdown",
   "id": "e71ed0ec",
   "metadata": {},
   "source": [
    "## 4.4 Метод ближайших соседей\n",
    "\n",
    "Метод ближайших соседей — это очень простой эвристический алгоритм. У метода нет параметров. Мы запоминаем всю обучающую выборку, а дальше смотрим, какие наблюдения оказываются ближе всего к нашему. \n",
    "\n",
    "- В случае классификации прогнозом будет самый частый класс.\n",
    "- В случае регрессии прогнозом будет среднее.\n",
    "\n",
    "Перед тем, как запускать алгоритм, надо будет выбрать как именно считать расстояния. У нас будет две опции: манхеттенская метрика и евклидова метрика."
   ]
  },
  {
   "cell_type": "markdown",
   "id": "c3b23959",
   "metadata": {},
   "source": [
    "### Задача 1 (классификация)\n",
    "\n",
    "Предположим, мы решаем задачу классификации на три класса по двум признакам и используем метод $k$ ближайших соседей с $k = 3$ и манхэттанской метрикой. Мы имеем следующую обучающую выборку:\n",
    "\n",
    "| Признак 1 | Признак 2 | Класс |\n",
    "|-----------|-----------|-------|\n",
    "| 1         | -1        | 1     |\n",
    "| 2         | 2         | 1     |\n",
    "| 3         | 2         | 2     |\n",
    "| 1         | 0         | 3     |\n",
    "| 2         | -2        | 3     |\n",
    "\n",
    "Каковы будут предсказания для объекта $x=(2, -1)$?\n",
    "\n",
    "__Решение:__\n",
    "\n",
    "Алгоритм предсказания kNN для задачи классификации:\n",
    "1. Вычислить расстояние от каждого объекта обучающей выборки до тестового объекта.\n",
    "1. Найти k объектов обучающей выборки (соседей) с наименьшим расстоянием до тестового объекта.\n",
    "1. Вернуть наиболее встречающийся класс среди k соседей.\n",
    "\n",
    "Вычислим расстояния. Расстояние от первого объекта в обучении до тестового объекта $x$ (манхэттэнская метрика):\n",
    "\n",
    "$$|1-2| + |-1-(-1)| = 1.$$\n",
    "\n",
    "Аналогично для 2-5 объектов: получатся расстояния 3, 4, 2, 1.\n",
    "\n",
    "Находим 3 ближайших объекта: это объекты с номерами 1, 4, 5 (расстояния 1, 2, 1 соответственно). Эти три объекта относятся к классам 1, 3, 3. Чаще всего встречается класс 3, поэтому предсказываем 3."
   ]
  },
  {
   "cell_type": "markdown",
   "id": "5d8fc23e",
   "metadata": {},
   "source": [
    "### Задача 2 (регрессия)\n",
    "\n",
    "Предположим, мы решаем задачу регрессии по двум признакам и используем метод k ближайших соседей с k=3 и манхэттанской метрикой. Мы имеем следующую обучающую выборку:\n",
    "\n",
    "| Признак 1 | Признак 2 | Ответ |\n",
    "|-----------|-----------|-------|\n",
    "| 1         | -1        | 3.5     |\n",
    "| 2         | 2         | 2.3     |\n",
    "| 3         | 2         | 1.7     |\n",
    "| 1         | 0         | -0.4     |\n",
    "| 2         | -2        | 0.1     |\n",
    "\n",
    "Каковы будут предсказания для объекта $x=(2, -1)$?\n",
    "\n",
    "__Решение:__\n",
    "\n",
    "Предсказания kNN для регрессии отличаются от предсказаний для классификации только финальным шагом: вместо поиска наиболее часто встречающегося класса нужно усреднить ответы на соседях. Признаки в этой задаче те же, что в задаче 1, поэтому соседей мы уже знаем: это объекты с номерами 1, 4, 5. На них мы имеем ответы 3.5, -0.3, 0.1. Усредним их: (3.5-0.4+0.1)/3 = 1.1. Предсказываем 1.1."
   ]
  },
  {
   "cell_type": "code",
   "execution_count": 33,
   "id": "948716e3",
   "metadata": {},
   "outputs": [
    {
     "name": "stdout",
     "output_type": "stream",
     "text": [
      "MAE: 1.6471\n",
      "RMSE: 2.1130\n",
      "MAPE: 0.1290\n"
     ]
    }
   ],
   "source": [
    "from sklearn.neighbors import KNeighborsRegressor\n",
    "\n",
    "model_knn = KNeighborsRegressor(n_neighbors=20)\n",
    "\n",
    "model_knn.fit(X_train, y_train)\n",
    "\n",
    "y_pred_knn = model_knn.predict(X_test)\n",
    "\n",
    "print_metrics(y_test, y_pred_knn)"
   ]
  },
  {
   "cell_type": "markdown",
   "id": "295a4e5d",
   "metadata": {},
   "source": [
    "__Вопрос:__ Что означают эти числа? Насколько плохи наши дела?"
   ]
  },
  {
   "cell_type": "markdown",
   "id": "8d23f0ef",
   "metadata": {},
   "source": [
    "Два самых важных гиперпараметры метода kNN — это число соседей k и метрика. Используя разные комбинации этих гиперпараметров, можно получать совершенно разное качество работы алгоритма. Гиперпараметры обычно настраивают по валидационной выборке или используя кросс-валидацию."
   ]
  },
  {
   "cell_type": "markdown",
   "id": "0a6cb6dd",
   "metadata": {},
   "source": [
    "При использовании kNN очень важно нормировать данные. Внутри метода ближайшего соседа мы считаем расстояния. Пусть у нас есть два человека: Вася и Петя. Вася весит $90$ кг. Петя $60$ кг. У Васи рост $1.9$ метра. У Пети $1.7$ метра. Посчитаем евклидово расстояние между парнями: \n",
    "\n",
    "$$\n",
    "\\rho(\\text{Вася}, \\text{Петя}) = \\sqrt{(1.9 - 1.7)^2 + (90 - 60)^2} = \\sqrt{0.04 + 900}. \n",
    "$$\n",
    "\n",
    "Какой из признаков вносит больший вклад в расстояние? Вес. Просто из-за того, что он измерен в другой шкале. Это будет путать алгоритм, когда он будет искать расстояния. Чтобы избежать такой путанницы, данные нужно отскалировать. То есть привести к одной шкале. Например, с помощью `StandardScaler`\n",
    "\n",
    "$$\n",
    "x^{*} = \\frac{x − \\bar x}{se(x)}\n",
    "$$"
   ]
  },
  {
   "cell_type": "code",
   "execution_count": 34,
   "id": "70d82b2e",
   "metadata": {},
   "outputs": [],
   "source": [
    "from sklearn.preprocessing import StandardScaler\n",
    "\n",
    "scaler = StandardScaler()\n",
    "\n",
    "X_train_scale = scaler.fit_transform(X_train)\n",
    "X_test_scale = scaler.transform(X_test)"
   ]
  },
  {
   "cell_type": "code",
   "execution_count": 35,
   "id": "7813b12b",
   "metadata": {},
   "outputs": [
    {
     "name": "stdout",
     "output_type": "stream",
     "text": [
      "MAE: 2.4435\n",
      "RMSE: 3.0576\n",
      "MAPE: 0.2264\n"
     ]
    }
   ],
   "source": [
    "model_knn = KNeighborsRegressor(n_neighbors=20)\n",
    "model_knn.fit(X_train_scale, y_train)\n",
    "y_pred_knn = model_knn.predict(X_test_scale)\n",
    "\n",
    "print_metrics(y_test, y_pred_knn)"
   ]
  },
  {
   "cell_type": "markdown",
   "id": "e4e39282",
   "metadata": {},
   "source": [
    "У нас качество испортилось :( Как думаете, почему?"
   ]
  },
  {
   "cell_type": "markdown",
   "id": "8ec82c4c",
   "metadata": {},
   "source": [
    "Давайте посмотрим, как будет вести себя алгоритм при увеличении числа соседей.\n",
    "\n",
    "При $k=1$ вокруг каждого объекта обучающей выборки создается область его класса. Если, к примеру, в \"большую\" область одного класса случайно попал один шумовой объект другого класса, вокруг этого шумового объекта будет \"остров\" предсказания другого класса. Это нелогично и говорит о переобучении.\n",
    "\n",
    "При $k$, равном числу объектов в выборке, для всех объектов будет предсказываться одно и то же, что вновь говорит о низком качестве работы классификатора. Получается, что качество kNN при увеличении $k$ должно сначала расти, а потом падать, и оптимум будем где-то посередине."
   ]
  },
  {
   "cell_type": "code",
   "execution_count": 36,
   "id": "d3cb5307",
   "metadata": {},
   "outputs": [
    {
     "name": "stdout",
     "output_type": "stream",
     "text": [
      "k = 1; mae = 1.370\n",
      "k = 2; mae = 1.357\n",
      "k = 3; mae = 1.281\n",
      "k = 4; mae = 1.219\n",
      "k = 5; mae = 1.189\n",
      "k = 6; mae = 1.295\n",
      "k = 7; mae = 1.212\n",
      "k = 8; mae = 1.268\n",
      "k = 9; mae = 1.233\n",
      "k = 10; mae = 1.239\n",
      "k = 11; mae = 1.325\n",
      "k = 12; mae = 1.392\n",
      "k = 13; mae = 1.431\n",
      "k = 14; mae = 1.469\n",
      "k = 15; mae = 1.519\n",
      "k = 16; mae = 1.539\n",
      "k = 17; mae = 1.566\n",
      "k = 18; mae = 1.607\n",
      "k = 19; mae = 1.615\n"
     ]
    }
   ],
   "source": [
    "for k in range(1, 20):\n",
    "    y_pred = KNeighborsRegressor(n_neighbors=k).fit(X_train, y_train).predict(X_test)\n",
    "    mae = metrics.mean_absolute_error(y_test, y_pred)\n",
    "    print(f\"k = {k}; mae = {mae:.3f}\")"
   ]
  },
  {
   "cell_type": "markdown",
   "id": "2da43c35",
   "metadata": {},
   "source": [
    "Обратите внимание, что мы используем здесь тестовую выборку для подбора гиперпараметра $k$. Она начинает участвовать в обучении. Если нам хочется замерить качество алгоритма, нам нужна нова тестовая выборка. Обычно выборку делят на три части: __обучающую, валидационную и тестовую.__ На валидационной подбирают гиперпараметры. \n",
    "\n",
    "Иногда алгоримы оказываются сложными и валидационных выборок приходится заводить несколько. Все ради того, чтобы избежать __переобучения.__"
   ]
  },
  {
   "cell_type": "markdown",
   "id": "c5ba2b45",
   "metadata": {},
   "source": [
    "![](https://miro.medium.com/max/875/1*_7OPgojau8hkiPUiHoGK_w.png)"
   ]
  }
 ],
 "metadata": {
  "kernelspec": {
   "display_name": "Python 3 (ipykernel)",
   "language": "python",
   "name": "python3"
  },
  "language_info": {
   "codemirror_mode": {
    "name": "ipython",
    "version": 3
   },
   "file_extension": ".py",
   "mimetype": "text/x-python",
   "name": "python",
   "nbconvert_exporter": "python",
   "pygments_lexer": "ipython3",
   "version": "3.10.9"
  }
 },
 "nbformat": 4,
 "nbformat_minor": 5
}
