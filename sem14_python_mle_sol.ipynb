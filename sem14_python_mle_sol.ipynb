{
 "cells": [
  {
   "cell_type": "markdown",
   "metadata": {},
   "source": [
    "<center>\n",
    "<img src=\"https://telegra.ph/file/76c3a3888f46b2faf76b5.jpg\" width=\"400\"> \n",
    "</center>\n",
    "\n",
    "\n",
    "#  Максимально правдоподобный семинар"
   ]
  },
  {
   "cell_type": "code",
   "execution_count": 1,
   "metadata": {},
   "outputs": [],
   "source": [
    "import numpy as np\n",
    "import pandas as pd\n",
    "\n",
    "from scipy import stats \n",
    "from scipy.optimize import minimize\n",
    "\n",
    "import seaborn as sns\n",
    "import matplotlib.pyplot as plt"
   ]
  },
  {
   "cell_type": "markdown",
   "metadata": {},
   "source": [
    "# 1. Фрекен Бок\n",
    "\n",
    "[Как известно](https://www.livelib.ru/quote/305456-malysh-i-karlson-kotoryj-zhivet-na-kryshe-astrid-lindgren), Фрекен Бок пьёт коньяк по утрам. У нас даже есть дневные данные (в граммах):"
   ]
  },
  {
   "cell_type": "code",
   "execution_count": 2,
   "metadata": {},
   "outputs": [],
   "source": [
    "x = [3.2, 7.9, 5.4, 4.9, 6.2, 4.3]"
   ]
  },
  {
   "cell_type": "markdown",
   "metadata": {},
   "source": [
    "__а)__ Предполагая, что $x_i$ независимы и нормальны $N(\\mu, \\sigma^2)$ выпишем функцию правдоподобия.\n",
    "\n",
    "\n",
    "$$\n",
    "f(x) = \\frac{1}{\\sqrt{2 \\pi \\sigma^2}} \\cdot e^{-\\frac{(x - \\mu)^2}{2 \\sigma^2}}\n",
    "$$\n",
    "\n",
    "\n"
   ]
  },
  {
   "cell_type": "markdown",
   "metadata": {},
   "source": [
    "$$\n",
    "L(\\mu, \\sigma^2 \\mid x_1, \\ldots, x_n) =  \\frac{1}{(2 \\pi \\sigma^2)^{\\frac{n}{2}}} \\cdot e^{- \\sum_{i=1}^n \\frac{(x_i - \\mu)^2}{2 \\sigma^2}}\n",
    "$$"
   ]
  },
  {
   "cell_type": "markdown",
   "metadata": {},
   "source": [
    "$$\n",
    "\\ln L(\\mu, \\sigma^2 \\mid x_1, \\ldots, x_n) \\propto  -0.5 \\cdot n \\cdot \\ln  \\sigma^2 - \\sum_{i=1}^n \\frac{(x_i - \\mu)^2}{2 \\sigma^2} \\to \\max_{\\mu, \\sigma^2}\n",
    "$$"
   ]
  },
  {
   "cell_type": "markdown",
   "metadata": {},
   "source": [
    "$\\propto$ - равенство с точностью до константы"
   ]
  },
  {
   "cell_type": "markdown",
   "metadata": {},
   "source": [
    "Чтобы гарантировать положительность параметра $\\sigma^2$ функция у нас будет зависеть от вектора параметров $\\theta$, причем $\\theta_1 = \\mu$, а $\\theta_2 = \\ln \\sigma^2$."
   ]
  },
  {
   "cell_type": "markdown",
   "metadata": {},
   "source": [
    "Реализуйте функцию правдоподобия."
   ]
  },
  {
   "cell_type": "code",
   "execution_count": 3,
   "metadata": {},
   "outputs": [
    {
     "data": {
      "text/plain": [
       "10.240554617493236"
      ]
     },
     "execution_count": 3,
     "metadata": {},
     "output_type": "execute_result"
    }
   ],
   "source": [
    "def lnL(theta, x):\n",
    "    mu = theta[0]\n",
    "    s2 = np.exp(theta[1])\n",
    "    \n",
    "    x =np.array(x)\n",
    "    n = x.size\n",
    "    \n",
    "    l = -0.5*n*np.log(s2) - 0.5/s2*np.sum((x-mu)**2)\n",
    "    return -l\n",
    "    \n",
    "lnL([4, 0.2], x)"
   ]
  },
  {
   "cell_type": "markdown",
   "metadata": {},
   "source": [
    "__б)__ Оцените неизвестные параметры с помощью метода `minimize` из `scipy.optimize`"
   ]
  },
  {
   "cell_type": "code",
   "execution_count": 4,
   "metadata": {},
   "outputs": [
    {
     "data": {
      "text/plain": [
       "  message: Optimization terminated successfully.\n",
       "  success: True\n",
       "   status: 0\n",
       "      fun: 5.353606615954105\n",
       "        x: [ 5.317e+00  7.845e-01]\n",
       "      nit: 14\n",
       "      jac: [-1.907e-06  2.146e-06]\n",
       " hess_inv: [[ 3.527e-01  1.299e-02]\n",
       "            [ 1.299e-02  3.198e-01]]\n",
       "     nfev: 51\n",
       "     njev: 17"
      ]
     },
     "execution_count": 4,
     "metadata": {},
     "output_type": "execute_result"
    }
   ],
   "source": [
    "theta_init = [0, 0]\n",
    "res = minimize(lnL, theta_init, args=x)\n",
    "res"
   ]
  },
  {
   "cell_type": "code",
   "execution_count": 5,
   "metadata": {},
   "outputs": [
    {
     "data": {
      "text/plain": [
       "(5.31666598766134, 1.480334589652924)"
      ]
     },
     "execution_count": 5,
     "metadata": {},
     "output_type": "execute_result"
    }
   ],
   "source": [
    "mu, s2 = res.x\n",
    "s2 = np.sqrt(np.exp(s2))\n",
    "mu, s2"
   ]
  },
  {
   "cell_type": "markdown",
   "metadata": {},
   "source": [
    "__в)__ Получите тот же результат используя встроенный метод `stats.norm.fit`:"
   ]
  },
  {
   "cell_type": "code",
   "execution_count": 6,
   "metadata": {
    "scrolled": true
   },
   "outputs": [
    {
     "data": {
      "text/plain": [
       "(5.316666666666666, 1.4803340463857775)"
      ]
     },
     "execution_count": 6,
     "metadata": {},
     "output_type": "execute_result"
    }
   ],
   "source": [
    "mu, s = stats.norm.fit(x)\n",
    "mu, s"
   ]
  },
  {
   "cell_type": "markdown",
   "metadata": {},
   "source": [
    "__г)__ Постройте $95\\%$ доверительный интервал для $\\mu$"
   ]
  },
  {
   "cell_type": "code",
   "execution_count": 7,
   "metadata": {},
   "outputs": [
    {
     "data": {
      "text/plain": [
       "array([[0.35266917, 0.0129928 ],\n",
       "       [0.0129928 , 0.31977249]])"
      ]
     },
     "execution_count": 7,
     "metadata": {},
     "output_type": "execute_result"
    }
   ],
   "source": [
    "res.hess_inv"
   ]
  },
  {
   "cell_type": "code",
   "execution_count": 8,
   "metadata": {},
   "outputs": [
    {
     "data": {
      "text/plain": [
       "0.3652314814814815"
      ]
     },
     "execution_count": 8,
     "metadata": {},
     "output_type": "execute_result"
    }
   ],
   "source": [
    "np.var(x)/len(x)"
   ]
  },
  {
   "cell_type": "code",
   "execution_count": 9,
   "metadata": {},
   "outputs": [
    {
     "name": "stdout",
     "output_type": "stream",
     "text": [
      "Доверительный интервал [4.153; 6.481] ширины 2.328\n"
     ]
    }
   ],
   "source": [
    "alpha = 0.05\n",
    "z = stats.norm().ppf(1 - alpha/2)\n",
    "\n",
    "left = res.x[0] - z*np.sqrt(res.hess_inv[0,0])\n",
    "right = res.x[0] + z*np.sqrt(res.hess_inv[0,0])\n",
    "\n",
    "print(\"Доверительный интервал [{:.4}; {:.4}] ширины {:.4}\".format(left, right, right - left))"
   ]
  },
  {
   "cell_type": "markdown",
   "metadata": {},
   "source": [
    "__д)__ Проверьте гипотезу о том, что $\\mu = 1$ с помощью теста отношения правдоподобий. "
   ]
  },
  {
   "cell_type": "code",
   "execution_count": 10,
   "metadata": {},
   "outputs": [
    {
     "data": {
      "text/plain": [
       "51.75020379854693"
      ]
     },
     "execution_count": 10,
     "metadata": {},
     "output_type": "execute_result"
    }
   ],
   "source": [
    "def lnL_r(theta, x):\n",
    "    mu = 1\n",
    "    s2 = np.exp(theta)\n",
    "    \n",
    "    x =np.array(x)\n",
    "    n = x.size\n",
    "    \n",
    "    l = -0.5*n*np.log(s2) - 0.5/s2*np.sum((x-mu)**2)\n",
    "    return -l\n",
    "    \n",
    "lnL_r(0.2, x)"
   ]
  },
  {
   "cell_type": "code",
   "execution_count": 11,
   "metadata": {},
   "outputs": [
    {
     "data": {
      "text/plain": [
       "  message: Optimization terminated successfully.\n",
       "  success: True\n",
       "   status: 0\n",
       "      fun: 12.108462564158728\n",
       "        x: [ 3.036e+00]\n",
       "      nit: 9\n",
       "      jac: [-2.384e-07]\n",
       " hess_inv: [[ 3.328e-01]]\n",
       "     nfev: 20\n",
       "     njev: 10"
      ]
     },
     "execution_count": 11,
     "metadata": {},
     "output_type": "execute_result"
    }
   ],
   "source": [
    "theta_init = 0\n",
    "res_r = minimize(lnL_r, theta_init, args=x)\n",
    "res_r"
   ]
  },
  {
   "cell_type": "code",
   "execution_count": 12,
   "metadata": {},
   "outputs": [],
   "source": [
    "lnL_r = res_r.fun\n",
    "lnL_ur = res.fun"
   ]
  },
  {
   "cell_type": "code",
   "execution_count": 13,
   "metadata": {},
   "outputs": [
    {
     "data": {
      "text/plain": [
       "13.509711896409247"
      ]
     },
     "execution_count": 13,
     "metadata": {},
     "output_type": "execute_result"
    }
   ],
   "source": [
    "2*(lnL_r - lnL_ur)"
   ]
  },
  {
   "cell_type": "code",
   "execution_count": 14,
   "metadata": {},
   "outputs": [
    {
     "data": {
      "text/plain": [
       "3.841458820694124"
      ]
     },
     "execution_count": 14,
     "metadata": {},
     "output_type": "execute_result"
    }
   ],
   "source": [
    "stats.chi2(df=1).ppf(0.95)"
   ]
  },
  {
   "cell_type": "markdown",
   "metadata": {},
   "source": [
    "Гипотеза отвергается! "
   ]
  },
  {
   "cell_type": "markdown",
   "metadata": {},
   "source": [
    "__е)__ Проверьте гипотезу о том, что $\\mu = 1$, а $\\sigma^2 = 2$ с помощью теста отношения правдоподобий."
   ]
  },
  {
   "cell_type": "code",
   "execution_count": 15,
   "metadata": {},
   "outputs": [],
   "source": [
    "lnL_ur = res.fun\n",
    "lnL_r = lnL([5,2.5], x)"
   ]
  },
  {
   "cell_type": "code",
   "execution_count": 16,
   "metadata": {},
   "outputs": [
    {
     "data": {
      "text/plain": [
       "5.421455499170399"
      ]
     },
     "execution_count": 16,
     "metadata": {},
     "output_type": "execute_result"
    }
   ],
   "source": [
    "2*(lnL_r - lnL_ur)"
   ]
  },
  {
   "cell_type": "code",
   "execution_count": 17,
   "metadata": {},
   "outputs": [
    {
     "data": {
      "text/plain": [
       "5.991464547107979"
      ]
     },
     "execution_count": 17,
     "metadata": {},
     "output_type": "execute_result"
    }
   ],
   "source": [
    "stats.chi2(df=2).ppf(0.95)"
   ]
  },
  {
   "cell_type": "markdown",
   "metadata": {},
   "source": [
    "Гипотеза отвергается. "
   ]
  },
  {
   "cell_type": "markdown",
   "metadata": {},
   "source": [
    "# 2.  Пуассоновские призраки\n",
    "\n",
    "<br>\n",
    "\n",
    "<center>\n",
    "<img src=\"https://pbs.twimg.com/media/DqWmCg9X4AAkl0n.jpg\" height=\"200\" width=\"350\"> \n",
    "</center>\n",
    "\n",
    "А ещё Фрекен-Бок иногда видит привидения! Данные по количеству привидений у нас тоже есть :)"
   ]
  },
  {
   "cell_type": "code",
   "execution_count": 18,
   "metadata": {},
   "outputs": [],
   "source": [
    "y =  [1, 2, 0, 0, 2, 0]"
   ]
  },
  {
   "cell_type": "markdown",
   "metadata": {},
   "source": [
    "Предположим, что количество привидений имеет пуассоновское распределение с параметром $\\lambda$. \n",
    "\n",
    "__а)__ Оцените $\\lambda$ с помощью ММП:\n",
    "\n",
    "Вероятность, что случайная величина $X$ примет значение $k$: \n",
    "\n",
    "$$\n",
    "\\mathbb{P}(X = k) = \\frac{e^{-\\lambda} \\cdot \\lambda^k}{k!}\n",
    "$$"
   ]
  },
  {
   "cell_type": "markdown",
   "metadata": {},
   "source": [
    "$$\n",
    "L(\\lambda \\mid x_1, \\ldots x_n) = \\frac{e^{-\\lambda} \\cdot \\lambda^{\n",
    "x_1}}{x_1!} \\cdot \\ldots \\cdot \\frac{e^{-\\lambda} \\cdot \\lambda^{x_n}}{x_n!}\n",
    "$$"
   ]
  },
  {
   "cell_type": "markdown",
   "metadata": {},
   "source": [
    "$$\n",
    "\\ln L(\\lambda \\mid x_1, \\ldots x_n) = \\cdot n + \\ln \\lambda \\cdot \\sum_{i=1}^n x_i - \\sum_{i=1}^n x_i!  \\propto - \\lambda \\cdot n + \\ln \\lambda \\cdot \\sum_{i=1}^n x_i \\to \\max_{\\lambda}\n",
    "$$\n",
    "\n",
    "$\\propto$ - равенство с точностью до константы"
   ]
  },
  {
   "cell_type": "markdown",
   "metadata": {},
   "source": [
    "\n",
    "$$\n",
    "\\ln L(\\lambda \\mid x_1, \\ldots x_n)  \\propto  \\sum_{i=1}^n [- \\lambda + \\ln \\lambda \\cdot x_i] \\to \\max_{\\lambda}\n",
    "$$"
   ]
  },
  {
   "cell_type": "code",
   "execution_count": 19,
   "metadata": {},
   "outputs": [
    {
     "data": {
      "text/plain": [
       "307.5889001988654"
      ]
     },
     "execution_count": 19,
     "metadata": {},
     "output_type": "execute_result"
    }
   ],
   "source": [
    "def lnL(theta, y):\n",
    "    rate = np.exp(theta)\n",
    "    y = np.array(y)\n",
    "    l = -rate + np.log(rate)*y\n",
    "    return -1*np.sum(l)\n",
    "\n",
    "lnL(4, y)"
   ]
  },
  {
   "cell_type": "code",
   "execution_count": 20,
   "metadata": {},
   "outputs": [
    {
     "data": {
      "text/plain": [
       "  message: Optimization terminated successfully.\n",
       "  success: True\n",
       "   status: 0\n",
       "      fun: 5.91160778397651\n",
       "        x: [-1.823e-01]\n",
       "      nit: 3\n",
       "      jac: [ 8.345e-06]\n",
       " hess_inv: [[ 2.007e-01]]\n",
       "     nfev: 10\n",
       "     njev: 5"
      ]
     },
     "execution_count": 20,
     "metadata": {},
     "output_type": "execute_result"
    }
   ],
   "source": [
    "theta_init = 0\n",
    "res = minimize(lnL, theta_init, args=y)\n",
    "res"
   ]
  },
  {
   "cell_type": "markdown",
   "metadata": {},
   "source": [
    "Предположим, что в $i$-й день интенсивность пуассоновского распределения $\\lambda_i$ связана с количеством выпитого коньяка формулой $\\lambda_i = e^{a + b \\cdot x_i}$. То есть, возможно, что Фрекен Бок видит призраков из-за коньяка. \n",
    "\n",
    "__б)__ Оцените параметры $a$ и $b$, выписав функцию правдоподобия. "
   ]
  },
  {
   "cell_type": "markdown",
   "metadata": {},
   "source": [
    "$$\n",
    "\\ln L(\\lambda \\mid x_1, \\ldots x_n)  \\propto  \\sum_{i=1}^n [- \\lambda_i + \\ln \\lambda_i \\cdot x_i] \\to \\max_{a, b}\n",
    "$$\n",
    "\n",
    "$$\n",
    "\\lambda_i = \\exp(a + b y_i)\n",
    "$$"
   ]
  },
  {
   "cell_type": "code",
   "execution_count": 21,
   "metadata": {},
   "outputs": [],
   "source": [
    "fbock = pd.DataFrame({\n",
    "    'x': [3.2, 7.9, 5.4, 4.9, 6.2, 4.3], \n",
    "    'y': [1, 2, 0, 0, 2, 0]\n",
    "})"
   ]
  },
  {
   "cell_type": "code",
   "execution_count": 22,
   "metadata": {},
   "outputs": [
    {
     "data": {
      "text/plain": [
       "20635012.00334143"
      ]
     },
     "execution_count": 22,
     "metadata": {},
     "output_type": "execute_result"
    }
   ],
   "source": [
    "def lnL(theta, fbock):\n",
    "    x = np.array(fbock['x'])\n",
    "    y = np.array(fbock['y'])\n",
    "    \n",
    "    a = theta[0]\n",
    "    b = theta[1]\n",
    "\n",
    "    rate = np.exp(a + b*x)\n",
    "    l = -rate + np.log(rate)*y\n",
    "    return -1*np.sum(l)\n",
    "\n",
    "lnL([1,2], fbock)"
   ]
  },
  {
   "cell_type": "code",
   "execution_count": 23,
   "metadata": {},
   "outputs": [
    {
     "data": {
      "text/plain": [
       "  message: Optimization terminated successfully.\n",
       "  success: True\n",
       "   status: 0\n",
       "      fun: 4.901374802427501\n",
       "        x: [-2.599e+00  4.170e-01]\n",
       "      nit: 9\n",
       "      jac: [ 5.960e-08  1.192e-07]\n",
       " hess_inv: [[ 3.642e+00 -5.478e-01]\n",
       "            [-5.478e-01  8.718e-02]]\n",
       "     nfev: 39\n",
       "     njev: 13"
      ]
     },
     "execution_count": 23,
     "metadata": {},
     "output_type": "execute_result"
    }
   ],
   "source": [
    "theta_init = [0,0]\n",
    "res = minimize(lnL, theta_init, args=fbock)\n",
    "res"
   ]
  },
  {
   "cell_type": "markdown",
   "metadata": {},
   "source": [
    "__в)__ Постройте прогнозы для парметра лямбда при разном объёме выпитого коньяка."
   ]
  },
  {
   "cell_type": "code",
   "execution_count": 24,
   "metadata": {},
   "outputs": [
    {
     "data": {
      "text/plain": [
       "array([0.1128355 , 0.17121004])"
      ]
     },
     "execution_count": 24,
     "metadata": {},
     "output_type": "execute_result"
    }
   ],
   "source": [
    "x_test = np.array([1, 2])\n",
    "lam_hat = np.exp(res.x[0] + res.x[1]*x_test)\n",
    "lam_hat"
   ]
  },
  {
   "cell_type": "code",
   "execution_count": 25,
   "metadata": {},
   "outputs": [
    {
     "data": {
      "text/plain": [
       "array([0.10079568, 0.14426921])"
      ]
     },
     "execution_count": 25,
     "metadata": {},
     "output_type": "execute_result"
    }
   ],
   "source": [
    "# ФБ увидит 1 призрака \n",
    "np.exp(-lam_hat)*lam_hat"
   ]
  },
  {
   "cell_type": "markdown",
   "metadata": {},
   "source": [
    "По аналогии можем вычислить все интересующие нас вероятности. "
   ]
  },
  {
   "cell_type": "markdown",
   "metadata": {},
   "source": [
    "__в)__  Данная модель является довольно популярной и реализована в `statsmodels`. Она называется Пуассоновской регрессией. Оценим её встроенными методами. "
   ]
  },
  {
   "cell_type": "code",
   "execution_count": 26,
   "metadata": {},
   "outputs": [
    {
     "name": "stdout",
     "output_type": "stream",
     "text": [
      "Requirement already satisfied: statsmodels in /opt/homebrew/lib/python3.10/site-packages (0.13.5)\n",
      "Requirement already satisfied: packaging>=21.3 in /opt/homebrew/lib/python3.10/site-packages (from statsmodels) (23.0)\n",
      "Requirement already satisfied: numpy>=1.17 in /opt/homebrew/lib/python3.10/site-packages (from statsmodels) (1.23.5)\n",
      "Requirement already satisfied: scipy>=1.3 in /opt/homebrew/lib/python3.10/site-packages (from statsmodels) (1.10.0)\n",
      "Requirement already satisfied: pandas>=0.25 in /opt/homebrew/lib/python3.10/site-packages (from statsmodels) (1.5.2)\n",
      "Requirement already satisfied: patsy>=0.5.2 in /opt/homebrew/lib/python3.10/site-packages (from statsmodels) (0.5.3)\n",
      "Requirement already satisfied: python-dateutil>=2.8.1 in /opt/homebrew/lib/python3.10/site-packages (from pandas>=0.25->statsmodels) (2.8.2)\n",
      "Requirement already satisfied: pytz>=2020.1 in /opt/homebrew/lib/python3.10/site-packages (from pandas>=0.25->statsmodels) (2022.7)\n",
      "Requirement already satisfied: six in /opt/homebrew/lib/python3.10/site-packages (from patsy>=0.5.2->statsmodels) (1.16.0)\n",
      "\n",
      "\u001b[1m[\u001b[0m\u001b[34;49mnotice\u001b[0m\u001b[1;39;49m]\u001b[0m\u001b[39;49m A new release of pip is available: \u001b[0m\u001b[31;49m23.0\u001b[0m\u001b[39;49m -> \u001b[0m\u001b[32;49m23.1.2\u001b[0m\n",
      "\u001b[1m[\u001b[0m\u001b[34;49mnotice\u001b[0m\u001b[1;39;49m]\u001b[0m\u001b[39;49m To update, run: \u001b[0m\u001b[32;49mpython3.10 -m pip install --upgrade pip\u001b[0m\n"
     ]
    }
   ],
   "source": [
    "!pip install statsmodels"
   ]
  },
  {
   "cell_type": "code",
   "execution_count": 27,
   "metadata": {},
   "outputs": [],
   "source": [
    "import statsmodels.formula.api as smf"
   ]
  },
  {
   "cell_type": "code",
   "execution_count": 28,
   "metadata": {},
   "outputs": [
    {
     "name": "stdout",
     "output_type": "stream",
     "text": [
      "Optimization terminated successfully.\n",
      "         Current function value: 1.047945\n",
      "         Iterations 6\n"
     ]
    },
    {
     "data": {
      "text/html": [
       "<table class=\"simpletable\">\n",
       "<caption>Poisson Regression Results</caption>\n",
       "<tr>\n",
       "  <th>Dep. Variable:</th>           <td>y</td>        <th>  No. Observations:  </th>  <td>     6</td> \n",
       "</tr>\n",
       "<tr>\n",
       "  <th>Model:</th>                <td>Poisson</td>     <th>  Df Residuals:      </th>  <td>     4</td> \n",
       "</tr>\n",
       "<tr>\n",
       "  <th>Method:</th>                 <td>MLE</td>       <th>  Df Model:          </th>  <td>     1</td> \n",
       "</tr>\n",
       "<tr>\n",
       "  <th>Date:</th>            <td>Wed, 10 May 2023</td> <th>  Pseudo R-squ.:     </th>  <td>0.1384</td> \n",
       "</tr>\n",
       "<tr>\n",
       "  <th>Time:</th>                <td>23:12:17</td>     <th>  Log-Likelihood:    </th> <td> -6.2877</td>\n",
       "</tr>\n",
       "<tr>\n",
       "  <th>converged:</th>             <td>True</td>       <th>  LL-Null:           </th> <td> -7.2979</td>\n",
       "</tr>\n",
       "<tr>\n",
       "  <th>Covariance Type:</th>     <td>nonrobust</td>    <th>  LLR p-value:       </th>  <td>0.1552</td> \n",
       "</tr>\n",
       "</table>\n",
       "<table class=\"simpletable\">\n",
       "<tr>\n",
       "      <td></td>         <th>coef</th>     <th>std err</th>      <th>z</th>      <th>P>|z|</th>  <th>[0.025</th>    <th>0.975]</th>  \n",
       "</tr>\n",
       "<tr>\n",
       "  <th>Intercept</th> <td>   -2.5988</td> <td>    1.918</td> <td>   -1.355</td> <td> 0.175</td> <td>   -6.358</td> <td>    1.161</td>\n",
       "</tr>\n",
       "<tr>\n",
       "  <th>x</th>         <td>    0.4170</td> <td>    0.297</td> <td>    1.404</td> <td> 0.160</td> <td>   -0.165</td> <td>    0.999</td>\n",
       "</tr>\n",
       "</table>"
      ],
      "text/plain": [
       "<class 'statsmodels.iolib.summary.Summary'>\n",
       "\"\"\"\n",
       "                          Poisson Regression Results                          \n",
       "==============================================================================\n",
       "Dep. Variable:                      y   No. Observations:                    6\n",
       "Model:                        Poisson   Df Residuals:                        4\n",
       "Method:                           MLE   Df Model:                            1\n",
       "Date:                Wed, 10 May 2023   Pseudo R-squ.:                  0.1384\n",
       "Time:                        23:12:17   Log-Likelihood:                -6.2877\n",
       "converged:                       True   LL-Null:                       -7.2979\n",
       "Covariance Type:            nonrobust   LLR p-value:                    0.1552\n",
       "==============================================================================\n",
       "                 coef    std err          z      P>|z|      [0.025      0.975]\n",
       "------------------------------------------------------------------------------\n",
       "Intercept     -2.5988      1.918     -1.355      0.175      -6.358       1.161\n",
       "x              0.4170      0.297      1.404      0.160      -0.165       0.999\n",
       "==============================================================================\n",
       "\"\"\""
      ]
     },
     "execution_count": 28,
     "metadata": {},
     "output_type": "execute_result"
    }
   ],
   "source": [
    "model = smf.poisson(data=fbock, formula=\"y ~ 1 + x\")\n",
    "model.fit().summary()"
   ]
  },
  {
   "cell_type": "markdown",
   "metadata": {},
   "source": [
    "__г)__ C помощью полученного протокола, проверим гипотезу о взаимосвязи призраков и выпитого коньяка.\n",
    "\n",
    "- Точечная оценка коэффицента перед коньяком равна $0.4170$. ММП даёт нам асимптотически нормальные оценки, то есть мы можем для проверки гипотез для коэффициента использовать $z-$тест. \n",
    "- В колонке $z$ посчитана статистика для гипотезы о равенстве коэффициента нулю (гипотеза о значимости коэффициента). Она оказалась равна $1.404$. Также для неё найдено p_value, оно оказалось равно $0.160$. То есть гипотеза о равенстве коэффициента нулю не отвергается. \n",
    "\n",
    "> Если все наши предпосылки выполнены и данные действительно имеют распределение Пуассона, коньяк никак не влияет на число увиденных приведений. \n"
   ]
  },
  {
   "cell_type": "markdown",
   "metadata": {},
   "source": [
    "# 3. Логистические призраки\n",
    "\n",
    "Предположим другую вероятностную модель. Теперь мы будем предполагать, что сам факт обнаружения хотя бы одного приведения, имеет вероятность $p_i$, зависящую от $y_i$:\n",
    "\n",
    "$$\n",
    "p_i = \\exp(a + b y_i) / (1 + \\exp(a + b y_i))\n",
    "$$\n",
    "\n",
    "__а)__ Введите дамми-переменную равную 1, если Фрекен Бок видела приведение:"
   ]
  },
  {
   "cell_type": "code",
   "execution_count": 29,
   "metadata": {},
   "outputs": [
    {
     "data": {
      "text/html": [
       "<div>\n",
       "<style scoped>\n",
       "    .dataframe tbody tr th:only-of-type {\n",
       "        vertical-align: middle;\n",
       "    }\n",
       "\n",
       "    .dataframe tbody tr th {\n",
       "        vertical-align: top;\n",
       "    }\n",
       "\n",
       "    .dataframe thead th {\n",
       "        text-align: right;\n",
       "    }\n",
       "</style>\n",
       "<table border=\"1\" class=\"dataframe\">\n",
       "  <thead>\n",
       "    <tr style=\"text-align: right;\">\n",
       "      <th></th>\n",
       "      <th>x</th>\n",
       "      <th>y</th>\n",
       "      <th>atleast1</th>\n",
       "    </tr>\n",
       "  </thead>\n",
       "  <tbody>\n",
       "    <tr>\n",
       "      <th>0</th>\n",
       "      <td>3.2</td>\n",
       "      <td>1</td>\n",
       "      <td>1</td>\n",
       "    </tr>\n",
       "    <tr>\n",
       "      <th>1</th>\n",
       "      <td>7.9</td>\n",
       "      <td>2</td>\n",
       "      <td>1</td>\n",
       "    </tr>\n",
       "    <tr>\n",
       "      <th>2</th>\n",
       "      <td>5.4</td>\n",
       "      <td>0</td>\n",
       "      <td>0</td>\n",
       "    </tr>\n",
       "    <tr>\n",
       "      <th>3</th>\n",
       "      <td>4.9</td>\n",
       "      <td>0</td>\n",
       "      <td>0</td>\n",
       "    </tr>\n",
       "    <tr>\n",
       "      <th>4</th>\n",
       "      <td>6.2</td>\n",
       "      <td>2</td>\n",
       "      <td>1</td>\n",
       "    </tr>\n",
       "    <tr>\n",
       "      <th>5</th>\n",
       "      <td>4.3</td>\n",
       "      <td>0</td>\n",
       "      <td>0</td>\n",
       "    </tr>\n",
       "  </tbody>\n",
       "</table>\n",
       "</div>"
      ],
      "text/plain": [
       "     x  y  atleast1\n",
       "0  3.2  1         1\n",
       "1  7.9  2         1\n",
       "2  5.4  0         0\n",
       "3  4.9  0         0\n",
       "4  6.2  2         1\n",
       "5  4.3  0         0"
      ]
     },
     "execution_count": 29,
     "metadata": {},
     "output_type": "execute_result"
    }
   ],
   "source": [
    "fbock['atleast1'] = 1 * (fbock['y'] > 0)\n",
    "fbock"
   ]
  },
  {
   "cell_type": "markdown",
   "metadata": {},
   "source": [
    "__б)__ Определив лапками функцию правдоподобия, оцените $a$ и $b$:"
   ]
  },
  {
   "cell_type": "code",
   "execution_count": 30,
   "metadata": {},
   "outputs": [
    {
     "data": {
      "text/plain": [
       "(3.8709632618131784, array([-2.35157571,  0.44383852]))"
      ]
     },
     "execution_count": 30,
     "metadata": {},
     "output_type": "execute_result"
    }
   ],
   "source": [
    "def minus_lklh(theta, fbock):\n",
    "    a, b = theta # распакуем параметры для читабельности\n",
    "    p = np.exp(a + b * fbock['x']) / (1 + np.exp(a + b * fbock['x']))\n",
    "    log_probs = fbock['atleast1'] * np.log(p) + (1 - fbock['atleast1']) * np.log(1 - p)\n",
    "    lklh = np.sum(log_probs)\n",
    "    return -lklh\n",
    "\n",
    "theta_init = [0, 0]\n",
    "\n",
    "optim_res = minimize(minus_lklh, theta_init, args=fbock)\n",
    "optim_res.fun, optim_res.x"
   ]
  },
  {
   "cell_type": "markdown",
   "metadata": {},
   "source": [
    "__в)__ Оцените $a$ и $b$ с помощью `statsmodels`. Нужная модель называется `logit`."
   ]
  },
  {
   "cell_type": "code",
   "execution_count": 31,
   "metadata": {},
   "outputs": [
    {
     "name": "stdout",
     "output_type": "stream",
     "text": [
      "Optimization terminated successfully.\n",
      "         Current function value: 0.645161\n",
      "         Iterations 5\n"
     ]
    },
    {
     "data": {
      "text/html": [
       "<table class=\"simpletable\">\n",
       "<caption>Logit Regression Results</caption>\n",
       "<tr>\n",
       "  <th>Dep. Variable:</th>       <td>atleast1</td>     <th>  No. Observations:  </th>  <td>     6</td> \n",
       "</tr>\n",
       "<tr>\n",
       "  <th>Model:</th>                 <td>Logit</td>      <th>  Df Residuals:      </th>  <td>     4</td> \n",
       "</tr>\n",
       "<tr>\n",
       "  <th>Method:</th>                 <td>MLE</td>       <th>  Df Model:          </th>  <td>     1</td> \n",
       "</tr>\n",
       "<tr>\n",
       "  <th>Date:</th>            <td>Wed, 10 May 2023</td> <th>  Pseudo R-squ.:     </th>  <td>0.06923</td>\n",
       "</tr>\n",
       "<tr>\n",
       "  <th>Time:</th>                <td>23:12:17</td>     <th>  Log-Likelihood:    </th> <td> -3.8710</td>\n",
       "</tr>\n",
       "<tr>\n",
       "  <th>converged:</th>             <td>True</td>       <th>  LL-Null:           </th> <td> -4.1589</td>\n",
       "</tr>\n",
       "<tr>\n",
       "  <th>Covariance Type:</th>     <td>nonrobust</td>    <th>  LLR p-value:       </th>  <td>0.4479</td> \n",
       "</tr>\n",
       "</table>\n",
       "<table class=\"simpletable\">\n",
       "<tr>\n",
       "      <td></td>         <th>coef</th>     <th>std err</th>      <th>z</th>      <th>P>|z|</th>  <th>[0.025</th>    <th>0.975]</th>  \n",
       "</tr>\n",
       "<tr>\n",
       "  <th>Intercept</th> <td>   -2.3516</td> <td>    3.376</td> <td>   -0.697</td> <td> 0.486</td> <td>   -8.969</td> <td>    4.266</td>\n",
       "</tr>\n",
       "<tr>\n",
       "  <th>x</th>         <td>    0.4438</td> <td>    0.620</td> <td>    0.716</td> <td> 0.474</td> <td>   -0.772</td> <td>    1.660</td>\n",
       "</tr>\n",
       "</table>"
      ],
      "text/plain": [
       "<class 'statsmodels.iolib.summary.Summary'>\n",
       "\"\"\"\n",
       "                           Logit Regression Results                           \n",
       "==============================================================================\n",
       "Dep. Variable:               atleast1   No. Observations:                    6\n",
       "Model:                          Logit   Df Residuals:                        4\n",
       "Method:                           MLE   Df Model:                            1\n",
       "Date:                Wed, 10 May 2023   Pseudo R-squ.:                 0.06923\n",
       "Time:                        23:12:17   Log-Likelihood:                -3.8710\n",
       "converged:                       True   LL-Null:                       -4.1589\n",
       "Covariance Type:            nonrobust   LLR p-value:                    0.4479\n",
       "==============================================================================\n",
       "                 coef    std err          z      P>|z|      [0.025      0.975]\n",
       "------------------------------------------------------------------------------\n",
       "Intercept     -2.3516      3.376     -0.697      0.486      -8.969       4.266\n",
       "x              0.4438      0.620      0.716      0.474      -0.772       1.660\n",
       "==============================================================================\n",
       "\"\"\""
      ]
     },
     "execution_count": 31,
     "metadata": {},
     "output_type": "execute_result"
    }
   ],
   "source": [
    "smf.logit(data=fbock, formula='atleast1 ~ 1 + x').fit().summary()"
   ]
  },
  {
   "cell_type": "markdown",
   "metadata": {},
   "source": [
    "Это ровно та же логистическая регрессия, что и в sklearn, но акцент в модели делается на проверке гипотез, а не на прогнозировании. \n",
    "\n",
    "> Тут семинарист затрёт вам глубокую философскую тираду про BVD, прогнозы и интерпретацию. Глубже узнать об этом он вас позовёт на ИАД или МО-1 :)"
   ]
  },
  {
   "cell_type": "markdown",
   "metadata": {},
   "source": [
    "# 4. Немного про оптимизацию"
   ]
  },
  {
   "cell_type": "markdown",
   "metadata": {},
   "source": [
    "__а)__ Найдите минимум фукнции $f(x_1, x_2) = (x_1 - 2)^2 + (x_2 - 4)^2$"
   ]
  },
  {
   "cell_type": "code",
   "execution_count": 32,
   "metadata": {},
   "outputs": [
    {
     "data": {
      "text/plain": [
       "  message: Optimization terminated successfully.\n",
       "  success: True\n",
       "   status: 0\n",
       "      fun: 9.095763293783874e-17\n",
       "        x: [ 2.000e+00  4.000e+00]\n",
       "      nit: 3\n",
       "      jac: [ 6.371e-09 -2.159e-09]\n",
       " hess_inv: [[ 9.000e-01 -2.000e-01]\n",
       "            [-2.000e-01  6.000e-01]]\n",
       "     nfev: 12\n",
       "     njev: 4"
      ]
     },
     "execution_count": 32,
     "metadata": {},
     "output_type": "execute_result"
    }
   ],
   "source": [
    "def fun(x):\n",
    "    \"\"\" какая-то приятная функция \"\"\"\n",
    "    z = (x[0] - 2) ** 2 + (x[1] - 4) ** 2\n",
    "    return z\n",
    "\n",
    "x_init = [0, 0]\n",
    "optim_res = minimize(fun, x_init)\n",
    "optim_res"
   ]
  },
  {
   "cell_type": "code",
   "execution_count": 33,
   "metadata": {},
   "outputs": [
    {
     "data": {
      "text/plain": [
       "(array([2.        , 3.99999999]), 9.095763293783874e-17)"
      ]
     },
     "execution_count": 33,
     "metadata": {},
     "output_type": "execute_result"
    }
   ],
   "source": [
    "optim_res.x, optim_res.fun"
   ]
  },
  {
   "cell_type": "markdown",
   "metadata": {},
   "source": [
    "Теперь добавим в функцию параметр $a$: $f(x_1, x_2) = (x_1 - 2a)^2 + (x_2 - 4)^2$\n",
    "\n",
    "__б)__ Найдите экстремум функции при $a=4$ и при $a=10$."
   ]
  },
  {
   "cell_type": "code",
   "execution_count": 34,
   "metadata": {},
   "outputs": [
    {
     "data": {
      "text/plain": [
       "  message: Optimization terminated successfully.\n",
       "  success: True\n",
       "   status: 0\n",
       "      fun: 6.608215111971474e-12\n",
       "        x: [ 8.000e+00  4.000e+00]\n",
       "      nit: 4\n",
       "      jac: [-2.263e-06  4.624e-06]\n",
       " hess_inv: [[ 6.000e-01 -2.000e-01]\n",
       "            [-2.000e-01  9.000e-01]]\n",
       "     nfev: 15\n",
       "     njev: 5"
      ]
     },
     "execution_count": 34,
     "metadata": {},
     "output_type": "execute_result"
    }
   ],
   "source": [
    "def fun(x, a=1):\n",
    "    \"\"\" какая-то приятная функция \"\"\"\n",
    "    z = (x[0] - 2 * a) ** 2 + (x[1] - 4) ** 2\n",
    "    return z\n",
    "\n",
    "x_init = [0, 0]\n",
    "optim_res = minimize(fun, x_init, args=4)\n",
    "optim_res"
   ]
  },
  {
   "cell_type": "code",
   "execution_count": 35,
   "metadata": {},
   "outputs": [
    {
     "data": {
      "text/plain": [
       "  message: Optimization terminated successfully.\n",
       "  success: True\n",
       "   status: 0\n",
       "      fun: 2.3881933437907206e-11\n",
       "        x: [ 2.000e+01  4.000e+00]\n",
       "      nit: 3\n",
       "      jac: [ 2.142e-06 -9.525e-06]\n",
       " hess_inv: [[ 5.192e-01 -9.615e-02]\n",
       "            [-9.615e-02  9.808e-01]]\n",
       "     nfev: 15\n",
       "     njev: 5"
      ]
     },
     "execution_count": 35,
     "metadata": {},
     "output_type": "execute_result"
    }
   ],
   "source": [
    "optim_res = minimize(fun, x_init, args=10)\n",
    "optim_res"
   ]
  },
  {
   "cell_type": "markdown",
   "metadata": {},
   "source": [
    "Но иногда встречаются функции-бяки :)\n",
    "\n",
    "$f(x_1, x_2, x_3) = 0.01 (x_1 - 0.5)^2 + |x_1^2 - x_2| + |x_1^2 - x_3|$\n",
    "\n",
    "__в)__ найдите минимум этой функции устно\n",
    "\n",
    "__г*)__ найдите минимум этой функции с помощью `minimize` (автор задачи тоже не знает решения)"
   ]
  },
  {
   "cell_type": "code",
   "execution_count": 36,
   "metadata": {},
   "outputs": [
    {
     "data": {
      "text/plain": [
       "       message: Optimization terminated successfully.\n",
       "       success: True\n",
       "        status: 0\n",
       "           fun: 0.0022029130300699013\n",
       "             x: [ 3.078e-02  9.461e-04  9.473e-04]\n",
       "           nit: 161\n",
       "          nfev: 280\n",
       " final_simplex: (array([[ 3.078e-02,  9.461e-04,  9.473e-04],\n",
       "                       [ 3.071e-02,  9.423e-04,  9.429e-04],\n",
       "                       [ 3.071e-02,  9.421e-04,  9.429e-04],\n",
       "                       [ 3.087e-02,  9.508e-04,  9.532e-04]]), array([ 2.203e-03,  2.203e-03,  2.203e-03,  2.203e-03]))"
      ]
     },
     "execution_count": 36,
     "metadata": {},
     "output_type": "execute_result"
    }
   ],
   "source": [
    "def byaka(x):\n",
    "    \"\"\" известная неприятная функция \"\"\"\n",
    "    z = 0.01 * (x[0] - 0.5) ** 2 + abs(x[0] ** 2 - x[1]) + abs(x[0] ** 2 - x[2])\n",
    "    return z\n",
    "\n",
    "x_init = [0, 0, 0]\n",
    "optim_res = minimize(byaka, x_init, method='powell')\n",
    "optim_res = minimize(byaka, x_init, method='bfgs')\n",
    "optim_res = minimize(byaka, x_init, method='nelder-mead')\n",
    "optim_res"
   ]
  },
  {
   "cell_type": "markdown",
   "metadata": {},
   "source": [
    "__д)__ нарисуйте хорошую функцию :)"
   ]
  },
  {
   "cell_type": "code",
   "execution_count": 37,
   "metadata": {},
   "outputs": [
    {
     "data": {
      "text/plain": [
       "array([[-5.  , -5.  ],\n",
       "       [-4.75, -5.  ],\n",
       "       [-4.5 , -5.  ],\n",
       "       ...,\n",
       "       [ 4.25,  4.75],\n",
       "       [ 4.5 ,  4.75],\n",
       "       [ 4.75,  4.75]])"
      ]
     },
     "execution_count": 37,
     "metadata": {},
     "output_type": "execute_result"
    }
   ],
   "source": [
    "x = np.arange(-5, 5, 0.25)\n",
    "y = np.arange(-5, 5, 0.25)\n",
    "x_mesh, y_mesh = np.meshgrid(x, y)\n",
    "xy = np.array([x_mesh, y_mesh]).reshape(2, len(x) * len(y)).T\n",
    "xy"
   ]
  },
  {
   "cell_type": "code",
   "execution_count": 38,
   "metadata": {},
   "outputs": [
    {
     "data": {
      "text/plain": [
       "array([130.    , 126.5625, 123.25  , ...,   5.625 ,   6.8125,   8.125 ])"
      ]
     },
     "execution_count": 38,
     "metadata": {},
     "output_type": "execute_result"
    }
   ],
   "source": [
    "xy = np.array([x_mesh, y_mesh]).reshape(2, len(x) * len(y)).T\n",
    "z = np.apply_along_axis(fun, 1, xy)\n",
    "z"
   ]
  },
  {
   "cell_type": "code",
   "execution_count": 39,
   "metadata": {},
   "outputs": [],
   "source": [
    "z_mesh = z.reshape(x_mesh.shape[0], -1)"
   ]
  },
  {
   "cell_type": "code",
   "execution_count": 40,
   "metadata": {},
   "outputs": [
    {
     "data": {
      "text/plain": [
       "(40, 40)"
      ]
     },
     "execution_count": 40,
     "metadata": {},
     "output_type": "execute_result"
    }
   ],
   "source": [
    "z_mesh.shape"
   ]
  },
  {
   "cell_type": "code",
   "execution_count": 41,
   "metadata": {},
   "outputs": [
    {
     "data": {
      "text/plain": [
       "Text(0.5, 1.0, 'Линии уровня функции fun')"
      ]
     },
     "execution_count": 41,
     "metadata": {},
     "output_type": "execute_result"
    },
    {
     "data": {
      "image/png": "[encoded data removed]",
      "text/plain": [
       "<Figure size 640x480 with 1 Axes>"
      ]
     },
     "metadata": {},
     "output_type": "display_data"
    }
   ],
   "source": [
    "fig, ax = plt.subplots()\n",
    "contour = ax.contour(x_mesh, y_mesh, z_mesh)\n",
    "ax.clabel(contour, inline=1, fontsize=10)\n",
    "ax.set_title('Линии уровня функции fun')"
   ]
  },
  {
   "cell_type": "markdown",
   "metadata": {},
   "source": [
    "  "
   ]
  }
 ],
 "metadata": {
  "kernelspec": {
   "display_name": "Python 3 (ipykernel)",
   "language": "python",
   "name": "python3"
  },
  "language_info": {
   "codemirror_mode": {
    "name": "ipython",
    "version": 3
   },
   "file_extension": ".py",
   "mimetype": "text/x-python",
   "name": "python",
   "nbconvert_exporter": "python",
   "pygments_lexer": "ipython3",
   "version": "3.10.9"
  }
 },
 "nbformat": 4,
 "nbformat_minor": 4
}
